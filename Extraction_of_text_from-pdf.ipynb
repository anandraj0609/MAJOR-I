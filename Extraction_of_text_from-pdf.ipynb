{
 "cells": [
  {
   "cell_type": "code",
   "execution_count": 2,
   "id": "4c17c2d1",
   "metadata": {},
   "outputs": [
    {
     "name": "stdout",
     "output_type": "stream",
     "text": [
      "Collecting PyPDF2\n",
      "  Downloading pypdf2-3.0.1-py3-none-any.whl (232 kB)\n",
      "     -------------------------------------- 232.6/232.6 kB 1.0 MB/s eta 0:00:00\n",
      "Installing collected packages: PyPDF2\n",
      "Successfully installed PyPDF2-3.0.1\n"
     ]
    },
    {
     "name": "stderr",
     "output_type": "stream",
     "text": [
      "\n",
      "[notice] A new release of pip available: 22.3.1 -> 23.1.2\n",
      "[notice] To update, run: python.exe -m pip install --upgrade pip\n"
     ]
    }
   ],
   "source": [
    "!pip install PyPDF2"
   ]
  },
  {
   "cell_type": "code",
   "execution_count": 5,
   "id": "f3bee1f1",
   "metadata": {},
   "outputs": [],
   "source": [
    "import PyPDF2 as pdf\n",
    "file = open(\"Book.pdf\", 'rb')"
   ]
  },
  {
   "cell_type": "code",
   "execution_count": 6,
   "id": "a4635cc0",
   "metadata": {},
   "outputs": [
    {
     "data": {
      "text/plain": [
       "<_io.BufferedReader name='Book.pdf'>"
      ]
     },
     "execution_count": 6,
     "metadata": {},
     "output_type": "execute_result"
    }
   ],
   "source": [
    "file"
   ]
  },
  {
   "cell_type": "code",
   "execution_count": 8,
   "id": "46b35cec",
   "metadata": {},
   "outputs": [],
   "source": [
    "pdf_reader = pdf.PdfReader(file)"
   ]
  },
  {
   "cell_type": "code",
   "execution_count": 9,
   "id": "5cd6730d",
   "metadata": {},
   "outputs": [
    {
     "data": {
      "text/plain": [
       "<PyPDF2._reader.PdfReader at 0x1b99e9e04f0>"
      ]
     },
     "execution_count": 9,
     "metadata": {},
     "output_type": "execute_result"
    }
   ],
   "source": [
    "pdf_reader"
   ]
  },
  {
   "cell_type": "code",
   "execution_count": 10,
   "id": "de2cf1f6",
   "metadata": {},
   "outputs": [
    {
     "name": "stdout",
     "output_type": "stream",
     "text": [
      "Help on PdfReader in module PyPDF2._reader object:\n",
      "\n",
      "class PdfReader(builtins.object)\n",
      " |  PdfReader(stream: Union[str, IO, pathlib.Path], strict: bool = False, password: Union[NoneType, str, bytes] = None) -> None\n",
      " |  \n",
      " |  Initialize a PdfReader object.\n",
      " |  \n",
      " |  This operation can take some time, as the PDF stream's cross-reference\n",
      " |  tables are read into memory.\n",
      " |  \n",
      " |  :param stream: A File object or an object that supports the standard read\n",
      " |      and seek methods similar to a File object. Could also be a\n",
      " |      string representing a path to a PDF file.\n",
      " |  :param bool strict: Determines whether user should be warned of all\n",
      " |      problems and also causes some correctable problems to be fatal.\n",
      " |      Defaults to ``False``.\n",
      " |  :param None/str/bytes password: Decrypt PDF file at initialization. If the\n",
      " |      password is None, the file will not be decrypted.\n",
      " |      Defaults to ``None``\n",
      " |  \n",
      " |  Methods defined here:\n",
      " |  \n",
      " |  __init__(self, stream: Union[str, IO, pathlib.Path], strict: bool = False, password: Union[NoneType, str, bytes] = None) -> None\n",
      " |      Initialize self.  See help(type(self)) for accurate signature.\n",
      " |  \n",
      " |  cacheGetIndirectObject(self, generation: int, idnum: int) -> Optional[PyPDF2.generic._base.PdfObject]\n",
      " |      .. deprecated:: 1.28.0\n",
      " |      \n",
      " |          Use :meth:`cache_get_indirect_object` instead.\n",
      " |  \n",
      " |  cacheIndirectObject(self, generation: int, idnum: int, obj: Optional[PyPDF2.generic._base.PdfObject]) -> Optional[PyPDF2.generic._base.PdfObject]\n",
      " |      .. deprecated:: 1.28.0\n",
      " |      \n",
      " |          Use :meth:`cache_indirect_object` instead.\n",
      " |  \n",
      " |  cache_get_indirect_object(self, generation: int, idnum: int) -> Optional[PyPDF2.generic._base.PdfObject]\n",
      " |  \n",
      " |  cache_indirect_object(self, generation: int, idnum: int, obj: Optional[PyPDF2.generic._base.PdfObject]) -> Optional[PyPDF2.generic._base.PdfObject]\n",
      " |  \n",
      " |  decode_permissions(self, permissions_code: int) -> Dict[str, bool]\n",
      " |  \n",
      " |  decrypt(self, password: Union[str, bytes]) -> PyPDF2._encryption.PasswordType\n",
      " |      When using an encrypted / secured PDF file with the PDF Standard\n",
      " |      encryption handler, this function will allow the file to be decrypted.\n",
      " |      It checks the given password against the document's user password and\n",
      " |      owner password, and then stores the resulting decryption key if either\n",
      " |      password is correct.\n",
      " |      \n",
      " |      It does not matter which password was matched.  Both passwords provide\n",
      " |      the correct decryption key that will allow the document to be used with\n",
      " |      this library.\n",
      " |      \n",
      " |      :param str password: The password to match.\n",
      " |      :return: `PasswordType`.\n",
      " |  \n",
      " |  getDestinationPageNumber(self, destination: PyPDF2.generic._data_structures.Destination) -> int\n",
      " |      .. deprecated:: 1.28.0\n",
      " |      \n",
      " |          Use :meth:`get_destination_page_number` instead.\n",
      " |  \n",
      " |  getDocumentInfo(self) -> Optional[PyPDF2._reader.DocumentInformation]\n",
      " |      .. deprecated:: 1.28.0\n",
      " |      \n",
      " |          Use the attribute :py:attr:`metadata` instead.\n",
      " |  \n",
      " |  getFields(self, tree: Optional[PyPDF2.generic._data_structures.TreeObject] = None, retval: Optional[Dict[Any, Any]] = None, fileobj: Optional[Any] = None) -> Optional[Dict[str, Any]]\n",
      " |      .. deprecated:: 1.28.0\n",
      " |      \n",
      " |          Use :meth:`get_fields` instead.\n",
      " |  \n",
      " |  getFormTextFields(self) -> Dict[str, Any]\n",
      " |      .. deprecated:: 1.28.0\n",
      " |      \n",
      " |          Use :meth:`get_form_text_fields` instead.\n",
      " |  \n",
      " |  getIsEncrypted(self) -> bool\n",
      " |      .. deprecated:: 1.28.0\n",
      " |      \n",
      " |          Use :py:attr:`is_encrypted` instead.\n",
      " |  \n",
      " |  getNamedDestinations(self, tree: Optional[PyPDF2.generic._data_structures.TreeObject] = None, retval: Optional[Any] = None) -> Dict[str, Any]\n",
      " |      .. deprecated:: 1.28.0\n",
      " |      \n",
      " |          Use :py:attr:`named_destinations` instead.\n",
      " |  \n",
      " |  getNumPages(self) -> int\n",
      " |      .. deprecated:: 1.28.0\n",
      " |      \n",
      " |          Use :code:`len(reader.pages)` instead.\n",
      " |  \n",
      " |  getObject(self, indirectReference: PyPDF2.generic._base.IndirectObject) -> Optional[PyPDF2.generic._base.PdfObject]\n",
      " |      .. deprecated:: 1.28.0\n",
      " |      \n",
      " |          Use :meth:`get_object` instead.\n",
      " |  \n",
      " |  getOutlines(self, node: Optional[PyPDF2.generic._data_structures.DictionaryObject] = None, outline: Optional[Any] = None) -> List[Union[PyPDF2.generic._data_structures.Destination, List[Union[PyPDF2.generic._data_structures.Destination, List[PyPDF2.generic._data_structures.Destination]]]]]\n",
      " |      .. deprecated:: 1.28.0\n",
      " |      \n",
      " |          Use :py:attr:`outline` instead.\n",
      " |  \n",
      " |  getPage(self, pageNumber: int) -> PyPDF2._page.PageObject\n",
      " |      .. deprecated:: 1.28.0\n",
      " |      \n",
      " |          Use :code:`reader.pages[page_number]` instead.\n",
      " |  \n",
      " |  getPageLayout(self) -> Optional[str]\n",
      " |      .. deprecated:: 1.28.0\n",
      " |      \n",
      " |          Use :py:attr:`page_layout` instead.\n",
      " |  \n",
      " |  getPageMode(self) -> Optional[Literal['/UseNone', '/UseOutlines', '/UseThumbs', '/FullScreen', '/UseOC', '/UseAttachments']]\n",
      " |      .. deprecated:: 1.28.0\n",
      " |      \n",
      " |          Use :py:attr:`page_mode` instead.\n",
      " |  \n",
      " |  getPageNumber(self, page: PyPDF2._page.PageObject) -> int\n",
      " |      .. deprecated:: 1.28.0\n",
      " |      \n",
      " |          Use :meth:`get_page_number` instead.\n",
      " |  \n",
      " |  getXmpMetadata(self) -> Optional[PyPDF2.xmp.XmpInformation]\n",
      " |      .. deprecated:: 1.28.0\n",
      " |      \n",
      " |          Use the attribute :py:attr:`xmp_metadata` instead.\n",
      " |  \n",
      " |  get_destination_page_number(self, destination: PyPDF2.generic._data_structures.Destination) -> int\n",
      " |      Retrieve page number of a given Destination object.\n",
      " |      \n",
      " |      :param Destination destination: The destination to get page number.\n",
      " |      :return: the page number or -1 if page not found\n",
      " |  \n",
      " |  get_fields(self, tree: Optional[PyPDF2.generic._data_structures.TreeObject] = None, retval: Optional[Dict[Any, Any]] = None, fileobj: Optional[Any] = None) -> Optional[Dict[str, Any]]\n",
      " |      Extract field data if this PDF contains interactive form fields.\n",
      " |      \n",
      " |      The *tree* and *retval* parameters are for recursive use.\n",
      " |      \n",
      " |      :param fileobj: A file object (usually a text file) to write\n",
      " |          a report to on all interactive form fields found.\n",
      " |      :return: A dictionary where each key is a field name, and each\n",
      " |          value is a :class:`Field<PyPDF2.generic.Field>` object. By\n",
      " |          default, the mapping name is used for keys.\n",
      " |          ``None`` if form data could not be located.\n",
      " |  \n",
      " |  get_form_text_fields(self) -> Dict[str, Any]\n",
      " |      Retrieve form fields from the document with textual data.\n",
      " |      \n",
      " |      The key is the name of the form field, the value is the content of the\n",
      " |      field.\n",
      " |      \n",
      " |      If the document contains multiple form fields with the same name, the\n",
      " |      second and following will get the suffix _2, _3, ...\n",
      " |  \n",
      " |  get_object(self, indirect_reference: Union[int, PyPDF2.generic._base.IndirectObject]) -> Optional[PyPDF2.generic._base.PdfObject]\n",
      " |  \n",
      " |  get_page_number(self, page: PyPDF2._page.PageObject) -> int\n",
      " |      Retrieve page number of a given PageObject\n",
      " |      \n",
      " |      :param PageObject page: The page to get page number. Should be\n",
      " |          an instance of :class:`PageObject<PyPDF2._page.PageObject>`\n",
      " |      :return: the page number or -1 if page not found\n",
      " |  \n",
      " |  read(self, stream: <class 'IO'>) -> None\n",
      " |  \n",
      " |  readNextEndLine(self, stream: <class 'IO'>, limit_offset: int = 0) -> bytes\n",
      " |      .. deprecated:: 1.28.0\n",
      " |  \n",
      " |  readObjectHeader(self, stream: <class 'IO'>) -> Tuple[int, int]\n",
      " |      .. deprecated:: 1.28.0\n",
      " |      \n",
      " |          Use :meth:`read_object_header` instead.\n",
      " |  \n",
      " |  read_next_end_line(self, stream: <class 'IO'>, limit_offset: int = 0) -> bytes\n",
      " |      .. deprecated:: 2.1.0\n",
      " |  \n",
      " |  read_object_header(self, stream: <class 'IO'>) -> Tuple[int, int]\n",
      " |  \n",
      " |  ----------------------------------------------------------------------\n",
      " |  Readonly properties defined here:\n",
      " |  \n",
      " |  documentInfo\n",
      " |      .. deprecated:: 1.28.0\n",
      " |      \n",
      " |          Use the attribute :py:attr:`metadata` instead.\n",
      " |  \n",
      " |  isEncrypted\n",
      " |      .. deprecated:: 1.28.0\n",
      " |      \n",
      " |          Use :py:attr:`is_encrypted` instead.\n",
      " |  \n",
      " |  is_encrypted\n",
      " |      Read-only boolean property showing whether this PDF file is encrypted.\n",
      " |      Note that this property, if true, will remain true even after the\n",
      " |      :meth:`decrypt()<PyPDF2.PdfReader.decrypt>` method is called.\n",
      " |  \n",
      " |  metadata\n",
      " |      Retrieve the PDF file's document information dictionary, if it exists.\n",
      " |      Note that some PDF files use metadata streams instead of docinfo\n",
      " |      dictionaries, and these metadata streams will not be accessed by this\n",
      " |      function.\n",
      " |      \n",
      " |      :return: the document information of this PDF file\n",
      " |  \n",
      " |  namedDestinations\n",
      " |      .. deprecated:: 1.28.0\n",
      " |      \n",
      " |          Use :py:attr:`named_destinations` instead.\n",
      " |  \n",
      " |  named_destinations\n",
      " |      A read-only dictionary which maps names to\n",
      " |      :class:`Destinations<PyPDF2.generic.Destination>`\n",
      " |  \n",
      " |  numPages\n",
      " |      .. deprecated:: 1.28.0\n",
      " |      \n",
      " |          Use :code:`len(reader.pages)` instead.\n",
      " |  \n",
      " |  outline\n",
      " |      Read-only property for the outline (i.e., a collection of 'outline items'\n",
      " |      which are also known as 'bookmarks') present in the document.\n",
      " |      \n",
      " |      :return: a nested list of :class:`Destinations<PyPDF2.generic.Destination>`.\n",
      " |  \n",
      " |  outlines\n",
      " |      .. deprecated:: 2.9.0\n",
      " |      \n",
      " |          Use :py:attr:`outline` instead.\n",
      " |  \n",
      " |  pageLayout\n",
      " |      .. deprecated:: 1.28.0\n",
      " |      \n",
      " |          Use :py:attr:`page_layout` instead.\n",
      " |  \n",
      " |  pageMode\n",
      " |      .. deprecated:: 1.28.0\n",
      " |      \n",
      " |          Use :py:attr:`page_mode` instead.\n",
      " |  \n",
      " |  page_layout\n",
      " |      Get the page layout.\n",
      " |      \n",
      " |      :return: Page layout currently being used.\n",
      " |      \n",
      " |      .. list-table:: Valid ``layout`` values\n",
      " |         :widths: 50 200\n",
      " |      \n",
      " |         * - /NoLayout\n",
      " |           - Layout explicitly not specified\n",
      " |         * - /SinglePage\n",
      " |           - Show one page at a time\n",
      " |         * - /OneColumn\n",
      " |           - Show one column at a time\n",
      " |         * - /TwoColumnLeft\n",
      " |           - Show pages in two columns, odd-numbered pages on the left\n",
      " |         * - /TwoColumnRight\n",
      " |           - Show pages in two columns, odd-numbered pages on the right\n",
      " |         * - /TwoPageLeft\n",
      " |           - Show two pages at a time, odd-numbered pages on the left\n",
      " |         * - /TwoPageRight\n",
      " |           - Show two pages at a time, odd-numbered pages on the right\n",
      " |  \n",
      " |  page_mode\n",
      " |      Get the page mode.\n",
      " |      \n",
      " |      :return: Page mode currently being used.\n",
      " |      \n",
      " |      .. list-table:: Valid ``mode`` values\n",
      " |         :widths: 50 200\n",
      " |      \n",
      " |         * - /UseNone\n",
      " |           - Do not show outline or thumbnails panels\n",
      " |         * - /UseOutlines\n",
      " |           - Show outline (aka bookmarks) panel\n",
      " |         * - /UseThumbs\n",
      " |           - Show page thumbnails panel\n",
      " |         * - /FullScreen\n",
      " |           - Fullscreen view\n",
      " |         * - /UseOC\n",
      " |           - Show Optional Content Group (OCG) panel\n",
      " |         * - /UseAttachments\n",
      " |           - Show attachments panel\n",
      " |  \n",
      " |  pages\n",
      " |      Read-only property that emulates a list of :py:class:`Page<PyPDF2._page.Page>` objects.\n",
      " |  \n",
      " |  pdf_header\n",
      " |  \n",
      " |  threads\n",
      " |      Read-only property for the list of threads see §8.3.2 from PDF 1.7 spec\n",
      " |      \n",
      " |      :return: an Array of Dictionnaries with \"/F\" and \"/I\" properties\n",
      " |               or None if no articles.\n",
      " |  \n",
      " |  xfa\n",
      " |  \n",
      " |  xmpMetadata\n",
      " |      .. deprecated:: 1.28.0\n",
      " |      \n",
      " |          Use the attribute :py:attr:`xmp_metadata` instead.\n",
      " |  \n",
      " |  xmp_metadata\n",
      " |      XMP (Extensible Metadata Platform) data\n",
      " |      \n",
      " |      :return: a :class:`XmpInformation<xmp.XmpInformation>`\n",
      " |          instance that can be used to access XMP metadata from the document.\n",
      " |          or ``None`` if no metadata was found on the document root.\n",
      " |  \n",
      " |  ----------------------------------------------------------------------\n",
      " |  Data descriptors defined here:\n",
      " |  \n",
      " |  __dict__\n",
      " |      dictionary for instance variables (if defined)\n",
      " |  \n",
      " |  __weakref__\n",
      " |      list of weak references to the object (if defined)\n",
      "\n"
     ]
    }
   ],
   "source": [
    "help(pdf_reader)"
   ]
  },
  {
   "cell_type": "code",
   "execution_count": 18,
   "id": "0cabe44c",
   "metadata": {},
   "outputs": [
    {
     "data": {
      "text/plain": [
       "295"
      ]
     },
     "execution_count": 18,
     "metadata": {},
     "output_type": "execute_result"
    }
   ],
   "source": [
    "len(pdf_reader.pages)"
   ]
  },
  {
   "cell_type": "code",
   "execution_count": 20,
   "id": "a52ae1a6",
   "metadata": {},
   "outputs": [],
   "source": [
    "page1 = pdf_reader.pages[13]"
   ]
  },
  {
   "cell_type": "code",
   "execution_count": 33,
   "id": "bf9d6082",
   "metadata": {},
   "outputs": [],
   "source": [
    "op1 = page1.extract_text()"
   ]
  },
  {
   "cell_type": "code",
   "execution_count": 34,
   "id": "a6203ad1",
   "metadata": {},
   "outputs": [
    {
     "data": {
      "text/plain": [
       "'Chapter 1 - A Tutorial Introduction\\nBack to Introduction --  Index --  Chapter 2 \\nChapter 1 - A Tutorial Introduction\\nLet us begin with a quick introduction in C. Our aim is to show the essential elements of the language in real \\nprograms, but without getting bogged down in details, rules, and exceptions. At this point, we are not trying to be complete or even precise (save that the examples are meant to be correct). We want to get you as quickly as possible to the point where you can write useful programs, and to do that we have to concentrate on the basics: variables and constants, arithmetic, control flow, functions, and the rudiments of input and output. We are intentionally leaving out of this chapter features of C that are important for writing bigger programs. These include pointers, structures, most of C\\'s rich set of operators, several control-flow statements, and the standard library. \\nThis approach and its drawbacks. Most notable is that the complete story on any particular feature is not found \\nhere, and the tutorial, by being brief, may also be misleading. And because the examples do not use the full power of C, they are not as concise and elegant as they might be. We have tried to minimize these effects, but be warned. Another drawback is that later chapters will necessarily repeat some of this chapter. We hope that the repetition will help you more than it annoys. \\nIn any case, experienced programmers should be able to extrapolate from the material in this chapter to their own \\nprogramming needs. Beginners should supplement it by writing small, similar programs of their own. Both groups can use it as a framework on which to hang the more detailed descriptions that begin in \\nChapter 2. \\n1.1 Getting Started\\nThe only way to learn a new programming language is by writing programs in it. The first program to write is the same for all languages: Print the words\\n hello, world \\nThis is a big hurdle; to leap over it you have to be able to create the program text somewhere, compile it \\nsuccessfully, load it, run it, and find out where your output went. With these mechanical details mastered, everything else is comparatively easy. \\nIn C, the program to print ``hello, world\\'\\' is    #include <stdio.h>\\n   main()\\n   {     printf(\"hello, world\\\\n\");\\n\\x00h\\x00t\\x00t\\x00p\\x00:\\x00/\\x00/\\x00f\\x00r\\x00e\\x00e\\x00b\\x00o\\x00o\\x00k\\x00s\\x00.\\x00b\\x00y\\x00.\\x00r\\x00u\\x00/\\x00v\\x00i\\x00e\\x00w\\x00/\\x00C\\x00P\\x00r\\x00o\\x00g\\x00r\\x00a\\x00m\\x00m\\x00i\\x00n\\x00g\\x00L\\x00a\\x00n\\x00g\\x00u\\x00a\\x00g\\x00e\\x00/\\x00c\\x00h\\x00a\\x00p\\x00t\\x00e\\x00r\\x001\\x00.\\x00h\\x00t\\x00m\\x00l\\x00 \\x00(\\x001\\x00 \\x00o\\x00f\\x00 \\x003\\x000\\x00)\\x00 \\x00[\\x009\\x00/\\x006\\x00/\\x002\\x000\\x000\\x002\\x00 \\x001\\x002\\x00:\\x002\\x001\\x00:\\x001\\x001\\x00 \\x00]'"
      ]
     },
     "execution_count": 34,
     "metadata": {},
     "output_type": "execute_result"
    }
   ],
   "source": [
    "op1"
   ]
  },
  {
   "cell_type": "code",
   "execution_count": 32,
   "id": "835de8f5",
   "metadata": {},
   "outputs": [],
   "source": [
    "with open('pg1.txt', 'w', encoding='utf-8') as f:\n",
    "    f.write(op1)"
   ]
  },
  {
   "cell_type": "code",
   "execution_count": 36,
   "id": "326a39d3",
   "metadata": {},
   "outputs": [
    {
     "data": {
      "text/plain": [
       "'Chapter 1 - A Tutorial Introduction\\n   }\\nJus how to run this program depends on the system you are using. As a specific example, on the UNIX operating \\nsystem you must create the program in a file whose name ends in ``.c\\'\\', such as hello.c, then compile it with \\nthe command \\n   cc hello.c\\nIf you haven\\'t botched anything, such as omitting a character or misspelling something, the compilation will \\nproceed silently, and make an executable file called a.out. If you run a.out by typing the command \\n   a.out\\nit will print \\n   hello, world\\nOn other systems, the rules will be different; check with a local expert. \\nNow, for some explanations about the program itself. A C program, whatever its size, consists of functions and \\nvariables. A function contains statements that specify the computing operations to be done, and variables store values used during the computation. C functions are like the subroutines and functions in Fortran or the procedures \\nand functions of Pascal. Our example is a function named main. Normally you are at liberty to give functions whatever names you like, but ``main\\'\\' is special - your program begins executing at the beginning of main. This means that every program must have a main somewhere. \\nmain will usually call other functions to help perform its job, some that you wrote, and others from libraries that \\nare provided for you. The first line of the program, \\n   #include <stdio.h>\\ntells the compiler to include information about the standard input/output library; the line appears at the beginning \\nof many C source files. The standard library is described in \\nChapter 7 and Appendix B. \\nOne method of communicating data between functions is for the calling function to provide a list of values, called arguments, to the function it calls. The parentheses after the function name surround the argument list. In this \\nexample, main is defined to be a function that expects no arguments, which is indicated by the empty list ( ). \\n#include <stdio.h>                 include information about standard library\\nmain()                                          define a function called main                                             that received no argument values{                                   statements of main are enclosed in braces    printf(\"hello, world\\\\n\");              main calls library function printf\\n\\x00h\\x00t\\x00t\\x00p\\x00:\\x00/\\x00/\\x00f\\x00r\\x00e\\x00e\\x00b\\x00o\\x00o\\x00k\\x00s\\x00.\\x00b\\x00y\\x00.\\x00r\\x00u\\x00/\\x00v\\x00i\\x00e\\x00w\\x00/\\x00C\\x00P\\x00r\\x00o\\x00g\\x00r\\x00a\\x00m\\x00m\\x00i\\x00n\\x00g\\x00L\\x00a\\x00n\\x00g\\x00u\\x00a\\x00g\\x00e\\x00/\\x00c\\x00h\\x00a\\x00p\\x00t\\x00e\\x00r\\x001\\x00.\\x00h\\x00t\\x00m\\x00l\\x00 \\x00(\\x002\\x00 \\x00o\\x00f\\x00 \\x003\\x000\\x00)\\x00 \\x00[\\x009\\x00/\\x006\\x00/\\x002\\x000\\x000\\x002\\x00 \\x001\\x002\\x00:\\x002\\x001\\x00:\\x001\\x001\\x00 \\x00]'"
      ]
     },
     "execution_count": 36,
     "metadata": {},
     "output_type": "execute_result"
    }
   ],
   "source": [
    "page2 = pdf_reader.pages[14]\n",
    "op2 = page2.extract_text()\n",
    "op2"
   ]
  },
  {
   "cell_type": "code",
   "execution_count": 37,
   "id": "c303e4a0",
   "metadata": {},
   "outputs": [],
   "source": [
    "with open('pg2.txt', 'w', encoding='utf-8') as f:\n",
    "    f.write(op2)"
   ]
  },
  {
   "cell_type": "code",
   "execution_count": 38,
   "id": "3b9fbfc3",
   "metadata": {},
   "outputs": [],
   "source": [
    "page3 = pdf_reader.pages[15]\n",
    "op3 = page3.extract_text()\n",
    "op3\n",
    "with open('pg3.txt', 'w', encoding='utf-8') as f:\n",
    "    f.write(op3)"
   ]
  },
  {
   "cell_type": "code",
   "execution_count": 39,
   "id": "84db078a",
   "metadata": {},
   "outputs": [
    {
     "data": {
      "text/plain": [
       "'Chapter 1 - A Tutorial Introduction\\n                                         to print this sequence of characters\\n}                                         \\\\n represents the newline character\\nThe first C program \\nThe statements of a function are enclosed in braces { }. The function main contains only one statement, \\n   printf(\"hello, world\\\\n\");\\nA function is called by naming it, followed by a parenthesized list of arguments, so this calls the function printf \\nwith the argument \"hello, world\\\\n\". printf is a library function that prints output, in this case the string \\nof characters between the quotes. \\nA sequence of characters in double quotes, like \"hello, world\\\\n\", is called a character string or string \\nconstant. For the moment our only use of character strings will be as arguments for printf and other functions. \\nThe sequence \\\\n in the string is C notation for the newline character, which when printed advances the output to \\nthe left margin on the next line. If you leave out the \\\\n (a worthwhile experiment), you will find that there is no line advance after the output is printed. You must use \\\\n to include a newline character in the printf argument; \\nif you try something like \\n   printf(\"hello, world\\n   \");\\nthe C compiler will produce an error message. \\nprintf never supplies a newline character automatically, so several calls may be used to build up an output line \\nin stages. Our first program could just as well have been written \\n   #include <stdio.h>\\n   main()\\n   {     printf(\"hello, \");     printf(\"world\");     printf(\"\\\\n\");   }\\nto produce identical output. \\nNotice that \\\\n represents only a single character. An escape sequence like \\\\n provides a general and extensible \\nmechanism for representing hard-to-type or invisible characters. Among the others that C provides are \\\\t for tab, \\\\b for backspace, \\\\\" for the double quote and \\\\\\\\ for the backslash itself. There is a complete list in \\nSection 2.3. \\n\\x00h\\x00t\\x00t\\x00p\\x00:\\x00/\\x00/\\x00f\\x00r\\x00e\\x00e\\x00b\\x00o\\x00o\\x00k\\x00s\\x00.\\x00b\\x00y\\x00.\\x00r\\x00u\\x00/\\x00v\\x00i\\x00e\\x00w\\x00/\\x00C\\x00P\\x00r\\x00o\\x00g\\x00r\\x00a\\x00m\\x00m\\x00i\\x00n\\x00g\\x00L\\x00a\\x00n\\x00g\\x00u\\x00a\\x00g\\x00e\\x00/\\x00c\\x00h\\x00a\\x00p\\x00t\\x00e\\x00r\\x001\\x00.\\x00h\\x00t\\x00m\\x00l\\x00 \\x00(\\x003\\x00 \\x00o\\x00f\\x00 \\x003\\x000\\x00)\\x00 \\x00[\\x009\\x00/\\x006\\x00/\\x002\\x000\\x000\\x002\\x00 \\x001\\x002\\x00:\\x002\\x001\\x00:\\x001\\x001\\x00 \\x00]'"
      ]
     },
     "execution_count": 39,
     "metadata": {},
     "output_type": "execute_result"
    }
   ],
   "source": [
    "op3"
   ]
  },
  {
   "cell_type": "code",
   "execution_count": 40,
   "id": "d7e1f3cc",
   "metadata": {},
   "outputs": [
    {
     "data": {
      "text/plain": [
       "\"Chapter 1 - A Tutorial Introduction\\nExercise 1-1. Run the ``hello, world'' program on your system. Experiment with leaving out parts of the \\nprogram, to see what error messages you get. \\nExercise 1-2. Experiment to find out what happens when prints's argument string contains \\\\c, where c is some \\ncharacter not listed above. \\n1.2 Variables and Arithmetic Expressions\\nThe next program uses the formula oC=(5/9)(oF-32) to print the following table of Fahrenheit temperatures and \\ntheir centigrade or Celsius equivalents: \\n   1    -17\\n   20   -6   40   4   60   15   80   26   100  37   120  48   140  60   160  71   180  82   200  93   220  104   240  115   260  126   280  137   300  148\\nThe program itself still consists of the definition of a single function named main. It is longer than the one that \\nprinted ``hello, world'', but not complicated. It introduces several new ideas, including comments, \\ndeclarations, variables, arithmetic expressions, loops , and formatted output. \\n   #include <stdio.h>\\n   /* print Fahrenheit-Celsius table\\n       for fahr = 0, 20, ..., 300 */   main()   {     int fahr, celsius;     int lower, upper, step;\\n     lower = 0;      /* lower limit of temperature scale */\\n     upper = 300;    /* upper limit */     step = 20;      /* step size */\\n     fahr = lower;\\n\\x00h\\x00t\\x00t\\x00p\\x00:\\x00/\\x00/\\x00f\\x00r\\x00e\\x00e\\x00b\\x00o\\x00o\\x00k\\x00s\\x00.\\x00b\\x00y\\x00.\\x00r\\x00u\\x00/\\x00v\\x00i\\x00e\\x00w\\x00/\\x00C\\x00P\\x00r\\x00o\\x00g\\x00r\\x00a\\x00m\\x00m\\x00i\\x00n\\x00g\\x00L\\x00a\\x00n\\x00g\\x00u\\x00a\\x00g\\x00e\\x00/\\x00c\\x00h\\x00a\\x00p\\x00t\\x00e\\x00r\\x001\\x00.\\x00h\\x00t\\x00m\\x00l\\x00 \\x00(\\x004\\x00 \\x00o\\x00f\\x00 \\x003\\x000\\x00)\\x00 \\x00[\\x009\\x00/\\x006\\x00/\\x002\\x000\\x000\\x002\\x00 \\x001\\x002\\x00:\\x002\\x001\\x00:\\x001\\x001\\x00 \\x00]\""
      ]
     },
     "execution_count": 40,
     "metadata": {},
     "output_type": "execute_result"
    }
   ],
   "source": [
    "page4 = pdf_reader.pages[16]\n",
    "op4 = page4.extract_text()\n",
    "with open('pg4.txt', 'w', encoding='utf-8') as f:\n",
    "    f.write(op4)\n",
    "    \n",
    "op4"
   ]
  },
  {
   "cell_type": "code",
   "execution_count": 41,
   "id": "03f6125f",
   "metadata": {},
   "outputs": [
    {
     "data": {
      "text/plain": [
       "'Chapter 1 - A Tutorial Introduction\\n     while (fahr <= upper) {\\n         celsius = 5 * (fahr-32) / 9;         printf(\"%d\\\\t%d\\\\n\", fahr, celsius);         fahr = fahr + step;     }   }\\nThe two lines \\n  /* print Fahrenheit-Celsius table\\n      for fahr = 0, 20, ..., 300 */\\nare a comment, which in this case explains briefly what the program does. Any characters between /* and */ are \\nignored by the compiler; they may be used freely to make a program easier to understand. Comments may appear anywhere where a blank, tab or newline can. \\nIn C, all variables must be declared before they are used, usually at the beginning of the function before any \\nexecutable statements. A declaration announces the properties of variables; it consists of a name and a list of variables, such as \\n    int fahr, celsius;\\n    int lower, upper, step;\\nThe type int means that the variables listed are integers; by contrast with float, which means floating point, \\ni.e., numbers that may have a fractional part. The range of both int and float depends on the machine you are using; 16-bits ints, which lie between -32768 and +32767, are common, as are 32-bit ints. A float number is \\ntypically a 32-bit quantity, with at least six significant digits and magnitude generally between about 10\\n-38 and \\n1038. \\nC provides several other data types besides int and float, including: \\n char   character - a single byte\\n short   short integer\\n long   long integer\\n double  double-precision floating point \\nThe size of these objects is also machine-dependent. There are also arrays, structures and unions of these basic \\ntypes, pointers to them, and functions that return them, all of which we will meet in due course. \\nComputation in the temperature conversion program begins with the assignment statements \\n    lower = 0;\\n    upper = 300;    step = 20;\\n\\x00h\\x00t\\x00t\\x00p\\x00:\\x00/\\x00/\\x00f\\x00r\\x00e\\x00e\\x00b\\x00o\\x00o\\x00k\\x00s\\x00.\\x00b\\x00y\\x00.\\x00r\\x00u\\x00/\\x00v\\x00i\\x00e\\x00w\\x00/\\x00C\\x00P\\x00r\\x00o\\x00g\\x00r\\x00a\\x00m\\x00m\\x00i\\x00n\\x00g\\x00L\\x00a\\x00n\\x00g\\x00u\\x00a\\x00g\\x00e\\x00/\\x00c\\x00h\\x00a\\x00p\\x00t\\x00e\\x00r\\x001\\x00.\\x00h\\x00t\\x00m\\x00l\\x00 \\x00(\\x005\\x00 \\x00o\\x00f\\x00 \\x003\\x000\\x00)\\x00 \\x00[\\x009\\x00/\\x006\\x00/\\x002\\x000\\x000\\x002\\x00 \\x001\\x002\\x00:\\x002\\x001\\x00:\\x001\\x001\\x00 \\x00]'"
      ]
     },
     "execution_count": 41,
     "metadata": {},
     "output_type": "execute_result"
    }
   ],
   "source": [
    "page5 = pdf_reader.pages[17]\n",
    "op5 = page5.extract_text()\n",
    "with open('pg5.txt', 'w', encoding='utf-8') as f:\n",
    "    f.write(op5)\n",
    "    \n",
    "op5"
   ]
  },
  {
   "cell_type": "code",
   "execution_count": 42,
   "id": "aae9d2ab",
   "metadata": {},
   "outputs": [
    {
     "data": {
      "text/plain": [
       "'Chapter 1 - A Tutorial Introduction\\nwhich set the variables to their initial values. Individual statements are terminated by semicolons. \\nEach line of the table is computed the same way, so we use a loop that repeats once per output line; this is the \\npurpose of the while loop \\n    while (fahr <= upper) {\\n       ...    }\\nThe while loop operates as follows: The condition in parentheses is tested. If it is true (fahr is less than or equal \\nto upper), the body of the loop (the three statements enclosed in braces) is executed. Then the condition is re-tested, and if true, the body is executed again. When the test becomes false (fahr exceeds upper) the loop ends, \\nand execution continues at the statement that follows the loop. There are no further statements in this program, so it terminates. \\nThe body of a while can be one or more statements enclosed in braces, as in the temperature converter, or a \\nsingle statement without braces, as in \\n   while (i < j)\\n       i = 2 * i;\\nIn either case, we will always indent the statements controlled by the while by one tab stop (which we have \\nshown as four spaces) so you can see at a glance which statements are inside the loop. The indentation emphasizes the logical structure of the program. Although C compilers do not care about how a program looks, proper indentation and spacing are critical in making programs easy for people to read. We recommend writing only one statement per line, and using blanks around operators to clarify grouping. The position of braces is less important, although people hold passionate beliefs. We have chosen one of several popular styles. Pick a style that suits you, then use it consistently. \\nMost of the work gets done in the body of the loop. The Celsius temperature is computed and assigned to the \\nvariable celsius by the statement \\n        celsius = 5 * (fahr-32) / 9;\\nThe reason for multiplying by 5 and dividing by 9 instead of just multiplying by 5/9 is that in C, as in many other \\nlanguages, integer division truncates: any fractional part is discarded. Since 5 and 9 are integers. 5/9 would be \\ntruncated to zero and so all the Celsius temperatures would be reported as zero. \\nThis example also shows a bit more of how printf works. printf is a general-purpose output formatting \\nfunction, which we will describe in detail in \\nChapter 7. Its first argument is a string of characters to be printed, \\nwith each % indicating where one of the other (second, third, ...) arguments is to be substituted, and in what form it \\nis to be printed. For instance, %d specifies an integer argument, so the statement \\n        printf(\"%d\\\\t%d\\\\n\", fahr, celsius);\\n\\x00h\\x00t\\x00t\\x00p\\x00:\\x00/\\x00/\\x00f\\x00r\\x00e\\x00e\\x00b\\x00o\\x00o\\x00k\\x00s\\x00.\\x00b\\x00y\\x00.\\x00r\\x00u\\x00/\\x00v\\x00i\\x00e\\x00w\\x00/\\x00C\\x00P\\x00r\\x00o\\x00g\\x00r\\x00a\\x00m\\x00m\\x00i\\x00n\\x00g\\x00L\\x00a\\x00n\\x00g\\x00u\\x00a\\x00g\\x00e\\x00/\\x00c\\x00h\\x00a\\x00p\\x00t\\x00e\\x00r\\x001\\x00.\\x00h\\x00t\\x00m\\x00l\\x00 \\x00(\\x006\\x00 \\x00o\\x00f\\x00 \\x003\\x000\\x00)\\x00 \\x00[\\x009\\x00/\\x006\\x00/\\x002\\x000\\x000\\x002\\x00 \\x001\\x002\\x00:\\x002\\x001\\x00:\\x001\\x001\\x00 \\x00]'"
      ]
     },
     "execution_count": 42,
     "metadata": {},
     "output_type": "execute_result"
    }
   ],
   "source": [
    "page6 = pdf_reader.pages[18]\n",
    "op6 = page6.extract_text()\n",
    "with open('pg6.txt', 'w', encoding='utf-8') as f:\n",
    "    f.write(op6)\n",
    "    \n",
    "op6"
   ]
  },
  {
   "cell_type": "code",
   "execution_count": 43,
   "id": "e3815762",
   "metadata": {},
   "outputs": [
    {
     "data": {
      "text/plain": [
       "'Chapter 1 - A Tutorial Introduction\\ncauses the values of the two integers fahr and celsius to be printed, with a tab (\\\\t) between them. \\nEach % construction in the first argument of printf is paired with the corresponding second argument, third \\nargument, etc.; they must match up properly by number and type, or you will get wrong answers. \\nBy the way, printf is not part of the C language; there is no input or output defined in C itself. printf is just a \\nuseful function from the standard library of functions that are normally accessible to C programs. The behaviour of \\nprintf is defined in the ANSI standard, however, so its properties should be the same with any compiler and \\nlibrary that conforms to the standard. \\nIn order to concentrate on C itself, we don\\'t talk much about input and output until chapter 7. In particular, we will \\ndefer formatted input until then. If you have to input numbers, read the discussion of the function scanf in \\nSection 7.4. scanf is like printf, except that it reads input instead of writing output. \\nThere are a couple of problems with the temperature conversion program. The simpler one is that the output isn\\'t \\nvery pretty because the numbers are not right-justified. That\\'s easy to fix; if we augment each %d in the printf \\nstatement with a width, the numbers printed will be right-justified in their fields. For instance, we might say \\n   printf(\"%3d %6d\\\\n\", fahr, celsius);\\nto print the first number of each line in a field three digits wide, and the second in a field six digits wide, like this: \\n     0     -17\\n    20      -6    40       4    60      15    80      26   100      37   ...\\nThe more serious problem is that because we have used integer arithmetic, the Celsius temperatures are not very \\naccurate; for instance, 0\\noF is actually about -17.8oC, not -17. To get more accurate answers, we should use floating-\\npoint arithmetic instead of integer. This requires some changes in the program. Here is the second version: \\n   #include <stdio.h>\\n   /* print Fahrenheit-Celsius table\\n       for fahr = 0, 20, ..., 300; floating-point version */   main()   {     float fahr, celsius;     float lower, upper, step;\\n     lower = 0;      /* lower limit of temperatuire scale */\\n     upper = 300;    /* upper limit */     step = 20;      /* step size */\\n\\x00h\\x00t\\x00t\\x00p\\x00:\\x00/\\x00/\\x00f\\x00r\\x00e\\x00e\\x00b\\x00o\\x00o\\x00k\\x00s\\x00.\\x00b\\x00y\\x00.\\x00r\\x00u\\x00/\\x00v\\x00i\\x00e\\x00w\\x00/\\x00C\\x00P\\x00r\\x00o\\x00g\\x00r\\x00a\\x00m\\x00m\\x00i\\x00n\\x00g\\x00L\\x00a\\x00n\\x00g\\x00u\\x00a\\x00g\\x00e\\x00/\\x00c\\x00h\\x00a\\x00p\\x00t\\x00e\\x00r\\x001\\x00.\\x00h\\x00t\\x00m\\x00l\\x00 \\x00(\\x007\\x00 \\x00o\\x00f\\x00 \\x003\\x000\\x00)\\x00 \\x00[\\x009\\x00/\\x006\\x00/\\x002\\x000\\x000\\x002\\x00 \\x001\\x002\\x00:\\x002\\x001\\x00:\\x001\\x001\\x00 \\x00]'"
      ]
     },
     "execution_count": 43,
     "metadata": {},
     "output_type": "execute_result"
    }
   ],
   "source": [
    "page7 = pdf_reader.pages[19]\n",
    "op7 = page7.extract_text()\n",
    "with open('pg7.txt', 'w', encoding='utf-8') as f:\n",
    "    f.write(op7)\n",
    "    \n",
    "op7"
   ]
  },
  {
   "cell_type": "code",
   "execution_count": 44,
   "id": "e61e04ab",
   "metadata": {},
   "outputs": [
    {
     "data": {
      "text/plain": [
       "'Chapter 1 - A Tutorial Introduction\\n     fahr = lower;\\n     while (fahr <= upper) {         celsius = (5.0/9.0) * (fahr-32.0);         printf(\"%3.0f %6.1f\\\\n\", fahr, celsius);         fahr = fahr + step;     }   }\\nThis is much the same as before, except that fahr and celsius are declared to be float and the formula for \\nconversion is written in a more natural way. We were unable to use 5/9 in the previous version because integer \\ndivision would truncate it to zero. A decimal point in a constant indicates that it is floating point, however, so \\n5.0/9.0 is not truncated because it is the ratio of two floating-point values. \\nIf an arithmetic operator has integer operands, an integer operation is performed. If an arithmetic operator has one \\nfloating-point operand and one integer operand, however, the integer will be converted to floating point before the \\noperation is done. If we had written (fahr-32), the 32 would be automatically converted to floating point. \\nNevertheless, writing floating-point constants with explicit decimal points even when they have integral values emphasizes their floating-point nature for human readers. \\nThe detailed rules for when integers are converted to floating point are in \\nChapter 2. For now, notice that the \\nassignment \\n   fahr = lower;\\nand the test \\n   while (fahr <= upper)\\nalso work in the natural way - the int is converted to float before the operation is done. \\nThe printf conversion specification %3.0f says that a floating-point number (here fahr) is to be printed at \\nleast three characters wide, with no decimal point and no fraction digits. %6.1f describes another number (celsius) that is to be printed at least six characters wide, with 1 digit after the decimal point. The output looks \\nlike this: \\n     0   -17.8\\n    20    -6.7    40     4.4   ...\\nWidth and precision may be omitted from a specification: %6f says that the number is to be at least six characters \\nwide; %.2f specifies two characters after the decimal point, but the width is not constrained; and %f merely says \\nto print the number as floating point. \\n\\x00h\\x00t\\x00t\\x00p\\x00:\\x00/\\x00/\\x00f\\x00r\\x00e\\x00e\\x00b\\x00o\\x00o\\x00k\\x00s\\x00.\\x00b\\x00y\\x00.\\x00r\\x00u\\x00/\\x00v\\x00i\\x00e\\x00w\\x00/\\x00C\\x00P\\x00r\\x00o\\x00g\\x00r\\x00a\\x00m\\x00m\\x00i\\x00n\\x00g\\x00L\\x00a\\x00n\\x00g\\x00u\\x00a\\x00g\\x00e\\x00/\\x00c\\x00h\\x00a\\x00p\\x00t\\x00e\\x00r\\x001\\x00.\\x00h\\x00t\\x00m\\x00l\\x00 \\x00(\\x008\\x00 \\x00o\\x00f\\x00 \\x003\\x000\\x00)\\x00 \\x00[\\x009\\x00/\\x006\\x00/\\x002\\x000\\x000\\x002\\x00 \\x001\\x002\\x00:\\x002\\x001\\x00:\\x001\\x001\\x00 \\x00]'"
      ]
     },
     "execution_count": 44,
     "metadata": {},
     "output_type": "execute_result"
    }
   ],
   "source": [
    "page8 = pdf_reader.pages[20]\n",
    "op8 = page8.extract_text()\n",
    "with open('pg8.txt', 'w', encoding='utf-8') as f:\n",
    "    f.write(op8)\n",
    "    \n",
    "op8"
   ]
  },
  {
   "cell_type": "code",
   "execution_count": 48,
   "id": "24c20cb2",
   "metadata": {},
   "outputs": [
    {
     "data": {
      "text/plain": [
       "'Chapter 1 - A Tutorial Introduction\\n %d  print as decimal integer\\n %6d  print as decimal integer, at least 6 characters wide\\n %f  print as floating point\\n %6f  print as floating point, at least 6 characters wide\\n %.2f  print as floating point, 2 characters after decimal point\\n %6.2f   print as floating point, at least 6 wide and 2 after decimal point \\nAmong others, printf also recognizes %o for octal, %x for hexadecimal, %c for character, %s for character \\nstring and %% for itself. \\nExercise 1-3. Modify the temperature conversion program to print a heading above the table. Exercise 1-4. Write a program to print the corresponding Celsius to Fahrenheit table. \\n1.3 The for statement\\nThere are plenty of different ways to write a program for a particular task. Let\\'s try a variation on the temperature \\nconverter. \\n   #include <stdio.h>\\n   /* print Fahrenheit-Celsius table */\\n   main()   {       int fahr;\\n       for (fahr = 0; fahr <= 300; fahr = fahr + 20)\\n           printf(\"%3d %6.1f\\\\n\", fahr, (5.0/9.0)*(fahr-32));   }\\nThis produces the same answers, but it certainly looks different. One major change is the elimination of most of the \\nvariables; only fahr remains, and we have made it an int. The lower and upper limits and the step size appear only as constants in the for statement, itself a new construction, and the expression that computes the Celsius temperature now appears as the third argument of printf instead of a separate assignment statement. \\nThis last change is an instance of a general rule - in any context where it is permissible to use the value of some \\ntype, you can use a more complicated expression of that type. Since the third argument of printf must be a floating-point value to match the %6.1f, any floating-point expression can occur here. \\nThe for statement is a loop, a generalization of the while. If you compare it to the earlier while, its operation \\nshould be clear. Within the parentheses, there are three parts, separated by semicolons. The first part, the initialization \\n\\x00h\\x00t\\x00t\\x00p\\x00:\\x00/\\x00/\\x00f\\x00r\\x00e\\x00e\\x00b\\x00o\\x00o\\x00k\\x00s\\x00.\\x00b\\x00y\\x00.\\x00r\\x00u\\x00/\\x00v\\x00i\\x00e\\x00w\\x00/\\x00C\\x00P\\x00r\\x00o\\x00g\\x00r\\x00a\\x00m\\x00m\\x00i\\x00n\\x00g\\x00L\\x00a\\x00n\\x00g\\x00u\\x00a\\x00g\\x00e\\x00/\\x00c\\x00h\\x00a\\x00p\\x00t\\x00e\\x00r\\x001\\x00.\\x00h\\x00t\\x00m\\x00l\\x00 \\x00(\\x009\\x00 \\x00o\\x00f\\x00 \\x003\\x000\\x00)\\x00 \\x00[\\x009\\x00/\\x006\\x00/\\x002\\x000\\x000\\x002\\x00 \\x001\\x002\\x00:\\x002\\x001\\x00:\\x001\\x001\\x00 \\x00]'"
      ]
     },
     "execution_count": 48,
     "metadata": {},
     "output_type": "execute_result"
    }
   ],
   "source": [
    "page9 = pdf_reader.pages[21]\n",
    "op9 = page9.extract_text()\n",
    "with open('pg9.txt', 'w', encoding='utf-8') as f:\n",
    "    f.write(op9)\n",
    "    \n",
    "op9"
   ]
  },
  {
   "cell_type": "code",
   "execution_count": 49,
   "id": "a3163fed",
   "metadata": {},
   "outputs": [],
   "source": [
    "page10 = pdf_reader.pages[22]\n",
    "op10 = page10.extract_text()\n",
    "with open('pg10.txt', 'w', encoding='utf-8') as f:\n",
    "    f.write(op10)\n",
    "    \n",
    "page11 = pdf_reader.pages[23]\n",
    "op11 = page11.extract_text()\n",
    "with open('pg11.txt', 'w', encoding='utf-8') as f:\n",
    "    f.write(op11)\n",
    "    \n",
    "page12 = pdf_reader.pages[24]\n",
    "op12 = page12.extract_text()\n",
    "with open('pg12.txt', 'w', encoding='utf-8') as f:\n",
    "    f.write(op12)\n",
    "    \n",
    "page13 = pdf_reader.pages[25]\n",
    "op13 = page13.extract_text()\n",
    "with open('pg13.txt', 'w', encoding='utf-8') as f:\n",
    "    f.write(op13)\n",
    "    \n",
    "page14 = pdf_reader.pages[26]\n",
    "op14 = page14.extract_text()\n",
    "with open('pg14.txt', 'w', encoding='utf-8') as f:\n",
    "    f.write(op14)\n",
    "    \n",
    "page15 = pdf_reader.pages[27]\n",
    "op15 = page15.extract_text()\n",
    "with open('pg15.txt', 'w', encoding='utf-8') as f:\n",
    "    f.write(op15)\n",
    "    \n",
    "page16 = pdf_reader.pages[28]\n",
    "op16 = page16.extract_text()\n",
    "with open('pg16.txt', 'w', encoding='utf-8') as f:\n",
    "    f.write(op16)\n",
    "    \n",
    "page17 = pdf_reader.pages[29]\n",
    "op17 = page17.extract_text()\n",
    "with open('pg17.txt', 'w', encoding='utf-8') as f:\n",
    "    f.write(op17)\n",
    "    \n",
    "page18 = pdf_reader.pages[30]\n",
    "op18 = page18.extract_text()\n",
    "with open('pg18.txt', 'w', encoding='utf-8') as f:\n",
    "    f.write(op18)"
   ]
  },
  {
   "cell_type": "code",
   "execution_count": 50,
   "id": "e586881e",
   "metadata": {},
   "outputs": [
    {
     "data": {
      "text/plain": [
       "\"Chapter 1 - A Tutorial Introduction\\n   fahr = 0\\nis done once, before the loop proper is entered. The second part is the test or condition that controls the loop: \\n   fahr <= 300\\nThis condition is evaluated; if it is true, the body of the loop (here a single ptintf) is executed. Then the \\nincrement step \\n   fahr = fahr + 20\\nis executed, and the condition re-evaluated. The loop terminates if the condition has become false. As with the \\nwhile, the body of the loop can be a single statement or a group of statements enclosed in braces. The \\ninitialization, condition and increment can be any expressions. \\nThe choice between while and for is arbitrary, based on which seems clearer. The for is usually appropriate \\nfor loops in which the initialization and increment are single statements and logically related, since it is more \\ncompact than while and it keeps the loop control statements together in one place. \\nExercise 1-5. Modify the temperature conversion program to print the table in reverse order, that is, from 300 \\ndegrees to 0. \\n1.4 Symbolic Constants\\nA final observation before we leave temperature conversion forever. It's bad practice to bury ``magic numbers'' like 300 and 20 in a program; they convey little information to someone who might have to read the program later, and they are hard to change in a systematic way. One way to deal with magic numbers is to give them meaningful \\nnames. A #define line defines a symbolic name or symbolic constant to be a particular string of characters: \\n  #define name replacement list \\nThereafter, any occurrence of name (not in quotes and not part of another name) will be replaced by the \\ncorresponding replacement text. The name has the same form as a variable name: a sequence of letters and digits that begins with a letter. The replacement text can be any sequence of characters; it is not limited to numbers. \\n   #include <stdio.h>\\n   #define LOWER  0     /* lower limit of table */\\n   #define UPPER  300   /* upper limit */   #define STEP   20    /* step size */\\n   /* print Fahrenheit-Celsius table */\\n   main()   {       int fahr;\\n\\x00h\\x00t\\x00t\\x00p\\x00:\\x00/\\x00/\\x00f\\x00r\\x00e\\x00e\\x00b\\x00o\\x00o\\x00k\\x00s\\x00.\\x00b\\x00y\\x00.\\x00r\\x00u\\x00/\\x00v\\x00i\\x00e\\x00w\\x00/\\x00C\\x00P\\x00r\\x00o\\x00g\\x00r\\x00a\\x00m\\x00m\\x00i\\x00n\\x00g\\x00L\\x00a\\x00n\\x00g\\x00u\\x00a\\x00g\\x00e\\x00/\\x00c\\x00h\\x00a\\x00p\\x00t\\x00e\\x00r\\x001\\x00.\\x00h\\x00t\\x00m\\x00l\\x00 \\x00(\\x001\\x000\\x00 \\x00o\\x00f\\x00 \\x003\\x000\\x00)\\x00 \\x00[\\x009\\x00/\\x006\\x00/\\x002\\x000\\x000\\x002\\x00 \\x001\\x002\\x00:\\x002\\x001\\x00:\\x001\\x001\\x00 \\x00]\""
      ]
     },
     "execution_count": 50,
     "metadata": {},
     "output_type": "execute_result"
    }
   ],
   "source": [
    "op10"
   ]
  },
  {
   "cell_type": "code",
   "execution_count": 51,
   "id": "82ab9988",
   "metadata": {},
   "outputs": [
    {
     "data": {
      "text/plain": [
       "'Chapter 1 - A Tutorial Introduction\\n       for (fahr = LOWER; fahr <= UPPER; fahr = fahr + STEP)\\n           printf(\"%3d %6.1f\\\\n\", fahr, (5.0/9.0)*(fahr-32));   }\\nThe quantities LOWER, UPPER and STEP are symbolic constants, not variables, so they do not appear in \\ndeclarations. Symbolic constant names are conventionally written in upper case so they can ber readily \\ndistinguished from lower case variable names. Notice that there is no semicolon at the end of a #define line. \\n1.5 Character Input and Output\\nWe are going to consider a family of related programs for processing character data. You will find that many \\nprograms are just expanded versions of the prototypes that we discuss here. \\nThe model of input and output supported by the standard library is very simple. Text input or output, regardless of \\nwhere it originates or where it goes to, is dealt with as streams of characters. A text stream is a sequence of characters divided into lines; each line consists of zero or more characters followed by a newline character. It is the responsibility of the library to make each input or output stream confirm this model; the C programmer using the library need not worry about how lines are represented outside the program. \\nThe standard library provides several functions for reading or writing one character at a time, of which getchar \\nand putchar are the simplest. Each time it is called, getchar reads the next input character from a text stream \\nand returns that as its value. That is, after \\n   c = getchar();\\nthe variable c contains the next character of input. The characters normally come from the keyboard; input from \\nfiles is discussed in \\nChapter 7. \\nThe function putchar prints a character each time it is called: \\n   putchar(c);\\nprints the contents of the integer variable c as a character, usually on the screen. Calls to putchar and printf \\nmay be interleaved; the output will appear in the order in which the calls are made. \\n1.5.1 File Copying\\nGiven getchar and putchar, you can write a surprising amount of useful code without knowing anything more about input and output. The simplest example is a program that copies its input to its output one character at a time: \\nread a character\\n    while (charater is not end-of-file indicator)\\n\\x00h\\x00t\\x00t\\x00p\\x00:\\x00/\\x00/\\x00f\\x00r\\x00e\\x00e\\x00b\\x00o\\x00o\\x00k\\x00s\\x00.\\x00b\\x00y\\x00.\\x00r\\x00u\\x00/\\x00v\\x00i\\x00e\\x00w\\x00/\\x00C\\x00P\\x00r\\x00o\\x00g\\x00r\\x00a\\x00m\\x00m\\x00i\\x00n\\x00g\\x00L\\x00a\\x00n\\x00g\\x00u\\x00a\\x00g\\x00e\\x00/\\x00c\\x00h\\x00a\\x00p\\x00t\\x00e\\x00r\\x001\\x00.\\x00h\\x00t\\x00m\\x00l\\x00 \\x00(\\x001\\x001\\x00 \\x00o\\x00f\\x00 \\x003\\x000\\x00)\\x00 \\x00[\\x009\\x00/\\x006\\x00/\\x002\\x000\\x000\\x002\\x00 \\x001\\x002\\x00:\\x002\\x001\\x00:\\x001\\x001\\x00 \\x00]'"
      ]
     },
     "execution_count": 51,
     "metadata": {},
     "output_type": "execute_result"
    }
   ],
   "source": [
    "op11"
   ]
  },
  {
   "cell_type": "code",
   "execution_count": 52,
   "id": "fd2515b9",
   "metadata": {},
   "outputs": [
    {
     "data": {
      "text/plain": [
       "\"Chapter 1 - A Tutorial Introduction\\n        output the character just read\\n        read a character\\nConverting this into C gives: \\n   #include <stdio.h>\\n   /* copy input to output; 1st version  */\\n   main()   {       int c;\\n       c = getchar();\\n       while (c != EOF) {           putchar(c);           c = getchar();       }   }\\nThe relational operator != means ``not equal to''. What appears to be a character on the keyboard or screen is of course, like everything else, stored internally just as \\na bit pattern. The type char is specifically meant for storing such character data, but any integer type can be used. We used int for a subtle but important reason. \\nThe problem is distinguishing the end of input from valid data. The solution is that getchar returns a distinctive \\nvalue when there is no more input, a value that cannot be confused with any real character. This value is called \\nEOF, for ``end of file''. We must declare c to be a type big enough to hold any value that getchar returns. We can't use char since c must be big enough to hold EOF in addition to any possible char. Therefore we use int. \\nEOF is an integer defined in <stdio.h>, but the specific numeric value doesn't matter as long as it is not the same as \\nany char value. By using the symbolic constant, we are assured that nothing in the program depends on the \\nspecific numeric value. \\nThe program for copying would be written more concisely by experienced C programmers. In C, any assignment, \\nsuch as \\n   c = getchar();\\nis an expression and has a value, which is the value of the left hand side after the assignment. This means that a \\nassignment can appear as part of a larger expression. If the assignment of a character to c is put inside the test part of a while loop, the copy program can be written this way: \\n   #include <stdio.h>\\n   /* copy input to output; 2nd version  */\\n\\x00h\\x00t\\x00t\\x00p\\x00:\\x00/\\x00/\\x00f\\x00r\\x00e\\x00e\\x00b\\x00o\\x00o\\x00k\\x00s\\x00.\\x00b\\x00y\\x00.\\x00r\\x00u\\x00/\\x00v\\x00i\\x00e\\x00w\\x00/\\x00C\\x00P\\x00r\\x00o\\x00g\\x00r\\x00a\\x00m\\x00m\\x00i\\x00n\\x00g\\x00L\\x00a\\x00n\\x00g\\x00u\\x00a\\x00g\\x00e\\x00/\\x00c\\x00h\\x00a\\x00p\\x00t\\x00e\\x00r\\x001\\x00.\\x00h\\x00t\\x00m\\x00l\\x00 \\x00(\\x001\\x002\\x00 \\x00o\\x00f\\x00 \\x003\\x000\\x00)\\x00 \\x00[\\x009\\x00/\\x006\\x00/\\x002\\x000\\x000\\x002\\x00 \\x001\\x002\\x00:\\x002\\x001\\x00:\\x001\\x001\\x00 \\x00]\""
      ]
     },
     "execution_count": 52,
     "metadata": {},
     "output_type": "execute_result"
    }
   ],
   "source": [
    "op12"
   ]
  },
  {
   "cell_type": "code",
   "execution_count": 53,
   "id": "5197d61d",
   "metadata": {},
   "outputs": [
    {
     "data": {
      "text/plain": [
       "\"Chapter 1 - A Tutorial Introduction\\n   main()\\n   {       int c;\\n       while ((c = getchar()) != EOF)\\n           putchar(c);   }\\nThe while gets a character, assigns it to c, and then tests whether the character was the end-of-file signal. If it \\nwas not, the body of the while is executed, printing the character. The while then repeats. When the end of the input is finally reached, the while terminates and so does main. \\nThis version centralizes the input - there is now only one reference to getchar - and shrinks the program. The \\nresulting program is more compact, and, once the idiom is mastered, easier to read. You'll see this style often. (It's possible to get carried away and create impenetrable code, however, a tendency that we will try to curb.) \\nThe parentheses around the assignment, within the condition are necessary. The precedence of != is higher than \\nthat of =, which means that in the absence of parentheses the relational test != would be done before the assignment =. So the statement \\n   c = getchar() != EOF\\nis equivalent to \\n   c = (getchar() != EOF)\\nThis has the undesired effect of setting c to 0 or 1, depending on whether or not the call of getchar returned end \\nof file. (More on this in \\nChapter 2.) \\nExercsise 1-6. Verify that the expression getchar() != EOF is 0 or 1. \\nExercise 1-7. Write a program to print the value of EOF. \\n1.5.2 Character Counting\\nThe next program counts characters; it is similar to the copy program.    #include <stdio.h>\\n   /* count characters in input; 1st version */\\n   main()   {       long nc;\\n       nc = 0;\\n       while (getchar() != EOF)\\n\\x00h\\x00t\\x00t\\x00p\\x00:\\x00/\\x00/\\x00f\\x00r\\x00e\\x00e\\x00b\\x00o\\x00o\\x00k\\x00s\\x00.\\x00b\\x00y\\x00.\\x00r\\x00u\\x00/\\x00v\\x00i\\x00e\\x00w\\x00/\\x00C\\x00P\\x00r\\x00o\\x00g\\x00r\\x00a\\x00m\\x00m\\x00i\\x00n\\x00g\\x00L\\x00a\\x00n\\x00g\\x00u\\x00a\\x00g\\x00e\\x00/\\x00c\\x00h\\x00a\\x00p\\x00t\\x00e\\x00r\\x001\\x00.\\x00h\\x00t\\x00m\\x00l\\x00 \\x00(\\x001\\x003\\x00 \\x00o\\x00f\\x00 \\x003\\x000\\x00)\\x00 \\x00[\\x009\\x00/\\x006\\x00/\\x002\\x000\\x000\\x002\\x00 \\x001\\x002\\x00:\\x002\\x001\\x00:\\x001\\x001\\x00 \\x00]\""
      ]
     },
     "execution_count": 53,
     "metadata": {},
     "output_type": "execute_result"
    }
   ],
   "source": [
    "op13"
   ]
  },
  {
   "cell_type": "code",
   "execution_count": 54,
   "id": "121e33fb",
   "metadata": {},
   "outputs": [
    {
     "data": {
      "text/plain": [
       "'Chapter 1 - A Tutorial Introduction\\n           ++nc;\\n       printf(\"%ld\\\\n\", nc);   }\\nThe statement \\n   ++nc;\\npresents a new operator, ++, which means increment by one. You could instead write nc = nc + 1 but ++nc is \\nmore concise and often more efficient. There is a corresponding operator -- to decrement by 1. The operators ++ and -- can be either prefix operators (++nc) or postfix operators (nc++); these two forms have different values in expressions, as will be shown in \\nChapter 2, but ++nc and nc++ both increment nc. For the moment we will will \\nstick to the prefix form. \\nThe character counting program accumulates its count in a long variable instead of an int. long integers are at \\nleast 32 bits. Although on some machines, int and long are the same size, on others an int is 16 bits, with a maximum value of 32767, and it would take relatively little input to overflow an int counter. The conversion specification %ld tells printf that the corresponding argument is a long integer. \\nIt may be possible to cope with even bigger numbers by using a double (double precision float). We will also \\nuse a for statement instead of a while, to illustrate another way to write the loop. \\n    #include <stdio.h>\\n   /* count characters in input; 2nd version */\\n   main()   {       double nc;\\n       for (nc = 0; gechar() != EOF; ++nc)\\n           ;       printf(\"%.0f\\\\n\", nc);   }\\nprintf uses %f for both float and double; %.0f suppresses the printing of the decimal point and the \\nfraction part, which is zero. \\nThe body of this for loop is empty, because all the work is done in the test and increment parts. But the \\ngrammatical rules of C require that a for statement have a body. The isolated semicolon, called a null statement, \\nis there to satisfy that requirement. We put it on a separate line to make it visible. \\nBefore we leave the character counting program, observe that if the input contains no characters, the while or \\nfor test fails on the very first call to getchar, and the program produces zero, the right answer. This is important. One of the nice things about while and for is that they test at the top of the loop, before proceeding \\nwith the body. If there is nothing to do, nothing is done, even if that means never going through the loop body. \\nPrograms should act intelligently when given zero-length input. The while and for statements help ensure that \\n\\x00h\\x00t\\x00t\\x00p\\x00:\\x00/\\x00/\\x00f\\x00r\\x00e\\x00e\\x00b\\x00o\\x00o\\x00k\\x00s\\x00.\\x00b\\x00y\\x00.\\x00r\\x00u\\x00/\\x00v\\x00i\\x00e\\x00w\\x00/\\x00C\\x00P\\x00r\\x00o\\x00g\\x00r\\x00a\\x00m\\x00m\\x00i\\x00n\\x00g\\x00L\\x00a\\x00n\\x00g\\x00u\\x00a\\x00g\\x00e\\x00/\\x00c\\x00h\\x00a\\x00p\\x00t\\x00e\\x00r\\x001\\x00.\\x00h\\x00t\\x00m\\x00l\\x00 \\x00(\\x001\\x004\\x00 \\x00o\\x00f\\x00 \\x003\\x000\\x00)\\x00 \\x00[\\x009\\x00/\\x006\\x00/\\x002\\x000\\x000\\x002\\x00 \\x001\\x002\\x00:\\x002\\x001\\x00:\\x001\\x001\\x00 \\x00]'"
      ]
     },
     "execution_count": 54,
     "metadata": {},
     "output_type": "execute_result"
    }
   ],
   "source": [
    "op14"
   ]
  },
  {
   "cell_type": "code",
   "execution_count": 55,
   "id": "8a692e5d",
   "metadata": {},
   "outputs": [
    {
     "data": {
      "text/plain": [
       "'Chapter 1 - A Tutorial Introduction\\nprograms do reasonable things with boundary conditions. \\n1.5.3 Line Counting\\nThe next program counts input lines. As we mentioned above, the standard library ensures that an input text stream \\nappears as a sequence of lines, each terminated by a newline. Hence, counting lines is just counting newlines: \\n   #include <stdio.h>\\n   /* count lines in input */\\n   main()   {       int c, nl;\\n       nl = 0;\\n       while ((c = getchar()) != EOF)           if (c == \\'\\\\n\\')               ++nl;       printf(\"%d\\\\n\", nl);   }\\nThe body of the while now consists of an if, which in turn controls the increment ++nl. The if statement tests \\nthe parenthesized condition, and if the condition is true, executes the statement (or group of statements in braces) that follows. We have again indented to show what is controlled by what. \\nThe double equals sign == is the C notation for ``is equal to\\'\\' (like Pascal\\'s single = or Fortran\\'s .EQ.). This \\nsymbol is used to distinguish the equality test from the single = that C uses for assignment. A word of caution: newcomers to C occasionally write = when they mean ==. As we will see in \\nChapter 2, the result is usually a legal \\nexpression, so you will get no warning. \\nA character written between single quotes represents an integer value equal to the numerical value of the character \\nin the machine\\'s character set. This is called a character constant, although it is just another way to write a small \\ninteger. So, for example, \\'A\\' is a character constant; in the ASCII character set its value is 65, the internal representation of the character A. Of course, \\'A\\' is to be preferred over 65: its meaning is obvious, and it is \\nindependent of a particular character set. \\nThe escape sequences used in string constants are also legal in character constants, so \\'\\\\n\\' stands for the value of \\nthe newline character, which is 10 in ASCII. You should note carefully that \\'\\\\n\\' is a single character, and in expressions is just an integer; on the other hand, \\'\\\\n\\' is a string constant that happens to contain only one \\ncharacter. The topic of strings versus characters is discussed further in \\nChapter 2. \\nExercise 1-8. Write a program to count blanks, tabs, and newlines. \\nExercise 1-9. Write a program to copy its input to its output, replacing each string of one or more blanks by a \\nsingle blank. \\n\\x00h\\x00t\\x00t\\x00p\\x00:\\x00/\\x00/\\x00f\\x00r\\x00e\\x00e\\x00b\\x00o\\x00o\\x00k\\x00s\\x00.\\x00b\\x00y\\x00.\\x00r\\x00u\\x00/\\x00v\\x00i\\x00e\\x00w\\x00/\\x00C\\x00P\\x00r\\x00o\\x00g\\x00r\\x00a\\x00m\\x00m\\x00i\\x00n\\x00g\\x00L\\x00a\\x00n\\x00g\\x00u\\x00a\\x00g\\x00e\\x00/\\x00c\\x00h\\x00a\\x00p\\x00t\\x00e\\x00r\\x001\\x00.\\x00h\\x00t\\x00m\\x00l\\x00 \\x00(\\x001\\x005\\x00 \\x00o\\x00f\\x00 \\x003\\x000\\x00)\\x00 \\x00[\\x009\\x00/\\x006\\x00/\\x002\\x000\\x000\\x002\\x00 \\x001\\x002\\x00:\\x002\\x001\\x00:\\x001\\x001\\x00 \\x00]'"
      ]
     },
     "execution_count": 55,
     "metadata": {},
     "output_type": "execute_result"
    }
   ],
   "source": [
    "op15"
   ]
  },
  {
   "cell_type": "code",
   "execution_count": 56,
   "id": "098991de",
   "metadata": {},
   "outputs": [
    {
     "data": {
      "text/plain": [
       "'Chapter 1 - A Tutorial Introduction\\nExercise 1-10. Write a program to copy its input to its output, replacing each tab by \\\\t, each backspace by \\\\b, \\nand each backslash by \\\\\\\\. This makes tabs and backspaces visible in an unambiguous way. \\n1.5.4 Word Counting\\nThe fourth in our series of useful programs counts lines, words, and characters, with the loose definition that a \\nword is any sequence of characters that does not contain a blank, tab or newline. This is a bare-bones version of the \\nUNIX program wc. \\n   #include <stdio.h>\\n   #define IN   1  /* inside a word */\\n   #define OUT  0  /* outside a word */\\n   /* count lines, words, and characters in input */\\n   main()   {       int c, nl, nw, nc, state;\\n       state = OUT;\\n       nl = nw = nc = 0;       while ((c = getchar()) != EOF) {           ++nc;           if (c == \\'\\\\n\\')               ++nl;           if (c == \\' \\' || c == \\'\\\\n\\' || c = \\'\\\\t\\')               state = OUT;           else if (state == OUT) {               state = IN;               ++nw;           }       }       printf(\"%d %d %d\\\\n\", nl, nw, nc);   }\\nEvery time the program encounters the first character of a word, it counts one more word. The variable state \\nrecords whether the program is currently in a word or not; initially it is ``not in a word\\'\\', which is assigned the \\nvalue OUT. We prefer the symbolic constants IN and OUT to the literal values 1 and 0 because they make the \\nprogram more readable. In a program as tiny as this, it makes little difference, but in larger programs, the increase in clarity is well worth the modest extra effort to write it this way from the beginning. You\\'ll also find that it\\'s easier to make extensive changes in programs where magic numbers appear only as symbolic constants. \\nThe line \\n   nl = nw = nc = 0;\\n\\x00h\\x00t\\x00t\\x00p\\x00:\\x00/\\x00/\\x00f\\x00r\\x00e\\x00e\\x00b\\x00o\\x00o\\x00k\\x00s\\x00.\\x00b\\x00y\\x00.\\x00r\\x00u\\x00/\\x00v\\x00i\\x00e\\x00w\\x00/\\x00C\\x00P\\x00r\\x00o\\x00g\\x00r\\x00a\\x00m\\x00m\\x00i\\x00n\\x00g\\x00L\\x00a\\x00n\\x00g\\x00u\\x00a\\x00g\\x00e\\x00/\\x00c\\x00h\\x00a\\x00p\\x00t\\x00e\\x00r\\x001\\x00.\\x00h\\x00t\\x00m\\x00l\\x00 \\x00(\\x001\\x006\\x00 \\x00o\\x00f\\x00 \\x003\\x000\\x00)\\x00 \\x00[\\x009\\x00/\\x006\\x00/\\x002\\x000\\x000\\x002\\x00 \\x001\\x002\\x00:\\x002\\x001\\x00:\\x001\\x001\\x00 \\x00]'"
      ]
     },
     "execution_count": 56,
     "metadata": {},
     "output_type": "execute_result"
    }
   ],
   "source": [
    "op16"
   ]
  },
  {
   "cell_type": "code",
   "execution_count": 57,
   "id": "c01b50e9",
   "metadata": {},
   "outputs": [
    {
     "data": {
      "text/plain": [
       "\"Chapter 1 - A Tutorial Introduction\\nsets all three variables to zero. This is not a special case, but a consequence of the fact that an assignment is an \\nexpression with the value and assignments associated from right to left. It's as if we had written \\n   nl = (nw = (nc = 0));\\nThe operator || means OR, so the line \\n   if (c == ' ' || c == '\\\\n' || c = '\\\\t')\\nsays ``if c is a blank or c is a newline or c is a tab''. (Recall that the escape sequence \\\\t is a visible representation \\nof the tab character.) There is a corresponding operator && for AND; its precedence is just higher than ||. Expressions connected by && or || are evaluated left to right, and it is guaranteed that evaluation will stop as soon as the truth or falsehood is known. If c is a blank, there is no need to test whether it is a newline or tab, so these \\ntests are not made. This isn't particularly important here, but is significant in more complicated situations, as we will soon see. \\nThe example also shows an else, which specifies an alternative action if the condition part of an if statement is \\nfalse. The general form is \\n   if (expression)\\n       statement\\n1\\n   else       statement\\n2\\nOne and only one of the two statements associated with an if-else is performed. If the expression is true, statement\\n1 is executed; if not, statement2 is executed. Each statement can be a single statement or several in braces. \\nIn the word count program, the one after the else is an if that controls two statements in braces. \\nExercise 1-11. How would you test the word count program? What kinds of input are most likely to uncover bugs \\nif there are any? \\nExercise 1-12. Write a program that prints its input one word per line. \\n1.6 Arrays\\nLet is write a program to count the number of occurrences of each digit, of white space characters (blank, tab, \\nnewline), and of all other characters. This is artificial, but it permits us to illustrate several aspects of C in one program. \\nThere are twelve categories of input, so it is convenient to use an array to hold the number of occurrences of each \\ndigit, rather than ten individual variables. Here is one version of the program: \\n   #include <stdio.h>\\n\\x00h\\x00t\\x00t\\x00p\\x00:\\x00/\\x00/\\x00f\\x00r\\x00e\\x00e\\x00b\\x00o\\x00o\\x00k\\x00s\\x00.\\x00b\\x00y\\x00.\\x00r\\x00u\\x00/\\x00v\\x00i\\x00e\\x00w\\x00/\\x00C\\x00P\\x00r\\x00o\\x00g\\x00r\\x00a\\x00m\\x00m\\x00i\\x00n\\x00g\\x00L\\x00a\\x00n\\x00g\\x00u\\x00a\\x00g\\x00e\\x00/\\x00c\\x00h\\x00a\\x00p\\x00t\\x00e\\x00r\\x001\\x00.\\x00h\\x00t\\x00m\\x00l\\x00 \\x00(\\x001\\x007\\x00 \\x00o\\x00f\\x00 \\x003\\x000\\x00)\\x00 \\x00[\\x009\\x00/\\x006\\x00/\\x002\\x000\\x000\\x002\\x00 \\x001\\x002\\x00:\\x002\\x001\\x00:\\x001\\x001\\x00 \\x00]\""
      ]
     },
     "execution_count": 57,
     "metadata": {},
     "output_type": "execute_result"
    }
   ],
   "source": [
    "op17"
   ]
  },
  {
   "cell_type": "code",
   "execution_count": 58,
   "id": "50aac721",
   "metadata": {},
   "outputs": [
    {
     "data": {
      "text/plain": [
       "'Chapter 1 - A Tutorial Introduction\\n   /* count digits, white space, others */\\n   main()   {       int c, i, nwhite, nother;       int ndigit[10];\\n       nwhite = nother = 0;\\n       for (i = 0; i < 10; ++i)           ndigit[i] = 0;\\n       while ((c = getchar()) != EOF)\\n           if (c >= \\'0\\' && c <= \\'9\\')               ++ndigit[c-\\'0\\'];           else if (c == \\' \\' || c == \\'\\\\n\\' || c == \\'\\\\t\\')               ++nwhite;           else               ++nother;\\n       printf(\"digits =\");\\n       for (i = 0; i < 10; ++i)           printf(\" %d\", ndigit[i]);       printf(\", white space = %d, other = %d\\\\n\",           nwhite, nother);   }\\nThe output of this program on itself is \\n   digits = 9 3 0 0 0 0 0 0 0 1, white space = 123, other = 345\\nThe declaration \\n   int ndigit[10];\\ndeclares ndigit to be an array of 10 integers. Array subscripts always start at zero in C, so the elements are \\nndigit[0], ndigit[1], ..., ndigit[9]. This is reflected in the for loops that initialize and print \\nthe array. \\nA subscript can be any integer expression, which includes integer variables like i, and integer constants. \\nThis particular program relies on the properties of the character representation of the digits. For example, the test \\n   if (c >= \\'0\\' && c <= \\'9\\')\\ndetermines whether the character in c is a digit. If it is, the numeric value of that digit is \\n   c - \\'0\\'\\n\\x00h\\x00t\\x00t\\x00p\\x00:\\x00/\\x00/\\x00f\\x00r\\x00e\\x00e\\x00b\\x00o\\x00o\\x00k\\x00s\\x00.\\x00b\\x00y\\x00.\\x00r\\x00u\\x00/\\x00v\\x00i\\x00e\\x00w\\x00/\\x00C\\x00P\\x00r\\x00o\\x00g\\x00r\\x00a\\x00m\\x00m\\x00i\\x00n\\x00g\\x00L\\x00a\\x00n\\x00g\\x00u\\x00a\\x00g\\x00e\\x00/\\x00c\\x00h\\x00a\\x00p\\x00t\\x00e\\x00r\\x001\\x00.\\x00h\\x00t\\x00m\\x00l\\x00 \\x00(\\x001\\x008\\x00 \\x00o\\x00f\\x00 \\x003\\x000\\x00)\\x00 \\x00[\\x009\\x00/\\x006\\x00/\\x002\\x000\\x000\\x002\\x00 \\x001\\x002\\x00:\\x002\\x001\\x00:\\x001\\x001\\x00 \\x00]'"
      ]
     },
     "execution_count": 58,
     "metadata": {},
     "output_type": "execute_result"
    }
   ],
   "source": [
    "op18"
   ]
  },
  {
   "cell_type": "code",
   "execution_count": 59,
   "id": "874edd4d",
   "metadata": {},
   "outputs": [],
   "source": [
    "page19 = pdf_reader.pages[31]\n",
    "op19 = page19.extract_text()\n",
    "with open('pg19.txt', 'w', encoding='utf-8') as f:\n",
    "    f.write(op19)\n",
    "\n",
    "page20 = pdf_reader.pages[32]\n",
    "op20 = page20.extract_text()\n",
    "with open('pg20.txt', 'w', encoding='utf-8') as f:\n",
    "    f.write(op20)\n",
    "\n",
    "page21 = pdf_reader.pages[33]\n",
    "op21 = page21.extract_text()\n",
    "with open('pg21.txt', 'w', encoding='utf-8') as f:\n",
    "    f.write(op21)\n",
    "    \n",
    "page22 = pdf_reader.pages[34]\n",
    "op22 = page22.extract_text()\n",
    "with open('pg22.txt', 'w', encoding='utf-8') as f:\n",
    "    f.write(op22)\n",
    "    \n",
    "page23 = pdf_reader.pages[35]\n",
    "op23 = page23.extract_text()\n",
    "with open('pg23.txt', 'w', encoding='utf-8') as f:\n",
    "    f.write(op23)\n",
    "    \n",
    "page24 = pdf_reader.pages[36]\n",
    "op24 = page24.extract_text()\n",
    "with open('pg24.txt', 'w', encoding='utf-8') as f:\n",
    "    f.write(op24)\n",
    "    \n",
    "page25 = pdf_reader.pages[37]\n",
    "op25 = page25.extract_text()\n",
    "with open('pg25.txt', 'w', encoding='utf-8') as f:\n",
    "    f.write(op25)\n",
    "    \n",
    "page26 = pdf_reader.pages[38]\n",
    "op26 = page26.extract_text()\n",
    "with open('pg26.txt', 'w', encoding='utf-8') as f:\n",
    "    f.write(op26)\n",
    "    \n",
    "page27 = pdf_reader.pages[39]\n",
    "op27 = page27.extract_text()\n",
    "with open('pg27.txt', 'w', encoding='utf-8') as f:\n",
    "    f.write(op27)\n",
    "    \n",
    "page28 = pdf_reader.pages[40]\n",
    "op28 = page28.extract_text()\n",
    "with open('pg28.txt', 'w', encoding='utf-8') as f:\n",
    "    f.write(op28)\n",
    "    \n",
    "page29 = pdf_reader.pages[41]\n",
    "op29 = page29.extract_text()\n",
    "with open('pg29.txt', 'w', encoding='utf-8') as f:\n",
    "    f.write(op29)"
   ]
  },
  {
   "cell_type": "code",
   "execution_count": 60,
   "id": "fdcc5d06",
   "metadata": {},
   "outputs": [
    {
     "data": {
      "text/plain": [
       "\"Chapter 1 - A Tutorial Introduction\\nThis works only if '0', '1', ..., '9' have consecutive increasing values. Fortunately, this is true for all \\ncharacter sets. \\nBy definition, chars are just small integers, so char variables and constants are identical to ints in arithmetic \\nexpressions. This is natural and convenient; for example c-'0' is an integer expression with a value between 0 and 9 corresponding to the character '0' to '9' stored in c, and thus a valid subscript for the array ndigit. \\nThe decision as to whether a character is a digit, white space, or something else is made with the sequence \\n   if (c >= '0' && c <= '9')\\n       ++ndigit[c-'0'];   else if (c == ' ' || c == '\\\\n' || c == '\\\\t')       ++nwhite;   else       ++nother;\\nThe pattern \\n   if (condition\\n1)\\n       statement1\\n   else if (condition2)\\n       statement2\\n       ...\\n       ...   else       statement\\nn\\noccurs frequently in programs as a way to express a multi-way decision. The conditions are evaluated in order from the top until some condition is satisfied; at that point the corresponding statement part is executed, and the entire construction is finished. (Any statement can be several statements enclosed in braces.) If none of the \\nconditions is satisfied, the statement after the final else is executed if it is present. If the final else and \\nstatement are omitted, as in the word count program, no action takes place. There can be any number of \\nelse if(condition)\\n  statement \\ngroups between the initial if and the final else. As a matter of style, it is advisable to format this construction as we have shown; if each if were indented past the \\nprevious else, a long sequence of decisions would march off the right side of the page. \\nThe switch statement, to be discussed in \\nChapter 4, provides another way to write a multi-way branch that is \\nparticulary suitable when the condition is whether some integer or character expression matches one of a set of \\nconstants. For contrast, we will present a switch version of this program in Section 3.4. \\n\\x00h\\x00t\\x00t\\x00p\\x00:\\x00/\\x00/\\x00f\\x00r\\x00e\\x00e\\x00b\\x00o\\x00o\\x00k\\x00s\\x00.\\x00b\\x00y\\x00.\\x00r\\x00u\\x00/\\x00v\\x00i\\x00e\\x00w\\x00/\\x00C\\x00P\\x00r\\x00o\\x00g\\x00r\\x00a\\x00m\\x00m\\x00i\\x00n\\x00g\\x00L\\x00a\\x00n\\x00g\\x00u\\x00a\\x00g\\x00e\\x00/\\x00c\\x00h\\x00a\\x00p\\x00t\\x00e\\x00r\\x001\\x00.\\x00h\\x00t\\x00m\\x00l\\x00 \\x00(\\x001\\x009\\x00 \\x00o\\x00f\\x00 \\x003\\x000\\x00)\\x00 \\x00[\\x009\\x00/\\x006\\x00/\\x002\\x000\\x000\\x002\\x00 \\x001\\x002\\x00:\\x002\\x001\\x00:\\x001\\x001\\x00 \\x00]\""
      ]
     },
     "execution_count": 60,
     "metadata": {},
     "output_type": "execute_result"
    }
   ],
   "source": [
    "op19"
   ]
  },
  {
   "cell_type": "code",
   "execution_count": 61,
   "id": "3bbd3e90",
   "metadata": {},
   "outputs": [
    {
     "data": {
      "text/plain": [
       "'Chapter 1 - A Tutorial Introduction\\nExercise 1-13. Write a program to print a histogram of the lengths of words in its input. It is easy to draw the \\nhistogram with the bars horizontal; a vertical orientation is more challenging. \\nExercise 1-14. Write a program to print a histogram of the frequencies of different characters in its input. \\n1.7 Functions\\nIn C, a function is equivalent to a subroutine or function in Fortran, or a procedure or function in Pascal. A \\nfunction provides a convenient way to encapsulate some computation, which can then be used without worrying about its implementation. With properly designed functions, it is possible to ignore how a job is done; knowing what is done is sufficient. C makes the sue of functions easy, convinient and efficient; you will often see a short function defined and called only once, just because it clarifies some piece of code. \\nSo far we have used only functions like printf, getchar and putchar that have been provided for us; now \\nit\\'s time to write a few of our own. Since C has no exponentiation operator like the ** of Fortran, let us illustrate the mechanics of function definition by writing a function power(m,n) to raise an integer m to a positive integer power n. That is, the value of power(2,5) is 32. This function is not a practical exponentiation routine, since it \\nhandles only positive powers of small integers, but it\\'s good enough for illustration.(The standard library contains a \\nfunction pow(x,y) that computes x\\ny.) \\nHere is the function power and a main program to exercise it, so you can see the whole structure at once. \\n   #include <stdio.h>\\n   int power(int m, int n);    /* test power function */\\n    main()    {        int i;\\n        for (i = 0; i < 10; ++i)\\n            printf(\"%d %d %d\\\\n\", i, power(2,i), power(-3,i));        return 0;    }\\n    /* power:  raise base to n-th power; n >= 0 */\\n    int power(int base, int n)    {        int i,  p;\\n        p = 1;\\n        for (i = 1; i <= n; ++i)            p = p * base;        return p;    }\\n\\x00h\\x00t\\x00t\\x00p\\x00:\\x00/\\x00/\\x00f\\x00r\\x00e\\x00e\\x00b\\x00o\\x00o\\x00k\\x00s\\x00.\\x00b\\x00y\\x00.\\x00r\\x00u\\x00/\\x00v\\x00i\\x00e\\x00w\\x00/\\x00C\\x00P\\x00r\\x00o\\x00g\\x00r\\x00a\\x00m\\x00m\\x00i\\x00n\\x00g\\x00L\\x00a\\x00n\\x00g\\x00u\\x00a\\x00g\\x00e\\x00/\\x00c\\x00h\\x00a\\x00p\\x00t\\x00e\\x00r\\x001\\x00.\\x00h\\x00t\\x00m\\x00l\\x00 \\x00(\\x002\\x000\\x00 \\x00o\\x00f\\x00 \\x003\\x000\\x00)\\x00 \\x00[\\x009\\x00/\\x006\\x00/\\x002\\x000\\x000\\x002\\x00 \\x001\\x002\\x00:\\x002\\x001\\x00:\\x001\\x001\\x00 \\x00]'"
      ]
     },
     "execution_count": 61,
     "metadata": {},
     "output_type": "execute_result"
    }
   ],
   "source": [
    "op20"
   ]
  },
  {
   "cell_type": "code",
   "execution_count": 62,
   "id": "4b23bbf0",
   "metadata": {},
   "outputs": [
    {
     "data": {
      "text/plain": [
       "'Chapter 1 - A Tutorial Introduction\\nA function definition has this form: \\nreturn-type function-name(parameter declarations, if any)\\n{   declarations   statements}\\nFunction definitions can appear in any order, and in one source file or several, although no function can be split \\nbetween files. If the source program appears in several files, you may have to say more to compile and load it than if it all appears in one, but that is an operating system matter, not a language attribute. For the moment, we will assume that both functions are in the same file, so whatever you have learned about running C programs will still work. \\nThe function power is called twice by main, in the line    printf(\"%d %d %d\\\\n\", i, power(2,i), power(-3,i));\\nEach call passes two arguments to power, which each time returns an integer to be formatted and printed. In an \\nexpression, power(2,i) is an integer just as 2 and i are. (Not all functions produce an integer value; we will \\ntake this up in \\nChapter 4.) \\nThe first line of power itself, \\n    int power(int base, int n)\\ndeclares the parameter types and names, and the type of the result that the function returns. The names used by \\npower for its parameters are local to power, and are not visible to any other function: other routines can use the same names without conflict. This is also true of the variables i and p: the i in power is unrelated to the i in main. \\nWe will generally use parameter for a variable named in the parenthesized list in a function. The terms formal \\nargument and actual argument are sometimes used for the same distinction. \\nThe value that power computes is returned to main by the return: statement. Any expression may follow \\nreturn: \\n   return expression;\\nA function need not return a value; a return statement with no expression causes control, but no useful value, to be \\nreturned to the caller, as does ``falling off the end\\'\\' of a function by reaching the terminating right brace. And the calling function can ignore a value returned by a function. \\nYou may have noticed that there is a return statement at the end of main. Since main is a function like any \\n\\x00h\\x00t\\x00t\\x00p\\x00:\\x00/\\x00/\\x00f\\x00r\\x00e\\x00e\\x00b\\x00o\\x00o\\x00k\\x00s\\x00.\\x00b\\x00y\\x00.\\x00r\\x00u\\x00/\\x00v\\x00i\\x00e\\x00w\\x00/\\x00C\\x00P\\x00r\\x00o\\x00g\\x00r\\x00a\\x00m\\x00m\\x00i\\x00n\\x00g\\x00L\\x00a\\x00n\\x00g\\x00u\\x00a\\x00g\\x00e\\x00/\\x00c\\x00h\\x00a\\x00p\\x00t\\x00e\\x00r\\x001\\x00.\\x00h\\x00t\\x00m\\x00l\\x00 \\x00(\\x002\\x001\\x00 \\x00o\\x00f\\x00 \\x003\\x000\\x00)\\x00 \\x00[\\x009\\x00/\\x006\\x00/\\x002\\x000\\x000\\x002\\x00 \\x001\\x002\\x00:\\x002\\x001\\x00:\\x001\\x001\\x00 \\x00]'"
      ]
     },
     "execution_count": 62,
     "metadata": {},
     "output_type": "execute_result"
    }
   ],
   "source": [
    "op21"
   ]
  },
  {
   "cell_type": "code",
   "execution_count": 63,
   "id": "a5144249",
   "metadata": {},
   "outputs": [
    {
     "data": {
      "text/plain": [
       "'Chapter 1 - A Tutorial Introduction\\nother, it may return a value to its caller, which is in effect the environment in which the program was executed. \\nTypically, a return value of zero implies normal termination; non-zero values signal unusual or erroneous \\ntermination conditions. In the interests of simplicity, we have omitted return statements from our main \\nfunctions up to this point, but we will include them hereafter, as a reminder that programs should return status to their environment. \\nThe declaration \\n    int power(int base, int n);\\njust before main says that power is a function that expects two int arguments and returns an int. This \\ndeclaration, which is called a function prototype, has to agree with the definition and uses of power. It is an error \\nif the definition of a function or any uses of it do not agree with its prototype. \\nparameter names need not agree. Indeed, parameter names are optional in a function prototype, so for the prototype \\nwe could have written \\n    int power(int, int);\\nWell-chosen names are good documentation however, so we will often use them. \\nA note of history: the biggest change between ANSI C and earlier versions is how functions are declared and \\ndefined. In the original definition of C, the power function would have been written like this: \\n   /* power:  raise base to n-th power; n >= 0 */\\n   /*         (old-style version) */   power(base, n)   int base, n;   {       int i, p;\\n       p = 1;\\n       for (i = 1; i <= n; ++i)           p = p * base;       return p;   }\\nThe parameters are named between the parentheses, and their types are declared before opening the left brace; \\nundeclared parameters are taken as int. (The body of the function is the same as before.) \\nThe declaration of power at the beginning of the program would have looked like this:     int power();\\nNo parameter list was permitted, so the compiler could not readily check that power was being called correctly. \\nIndeed, since by default power would have been assumed to return an int, the entire declaration might well have \\n\\x00h\\x00t\\x00t\\x00p\\x00:\\x00/\\x00/\\x00f\\x00r\\x00e\\x00e\\x00b\\x00o\\x00o\\x00k\\x00s\\x00.\\x00b\\x00y\\x00.\\x00r\\x00u\\x00/\\x00v\\x00i\\x00e\\x00w\\x00/\\x00C\\x00P\\x00r\\x00o\\x00g\\x00r\\x00a\\x00m\\x00m\\x00i\\x00n\\x00g\\x00L\\x00a\\x00n\\x00g\\x00u\\x00a\\x00g\\x00e\\x00/\\x00c\\x00h\\x00a\\x00p\\x00t\\x00e\\x00r\\x001\\x00.\\x00h\\x00t\\x00m\\x00l\\x00 \\x00(\\x002\\x002\\x00 \\x00o\\x00f\\x00 \\x003\\x000\\x00)\\x00 \\x00[\\x009\\x00/\\x006\\x00/\\x002\\x000\\x000\\x002\\x00 \\x001\\x002\\x00:\\x002\\x001\\x00:\\x001\\x001\\x00 \\x00]'"
      ]
     },
     "execution_count": 63,
     "metadata": {},
     "output_type": "execute_result"
    }
   ],
   "source": [
    "op22"
   ]
  },
  {
   "cell_type": "code",
   "execution_count": 64,
   "id": "6bccdb51",
   "metadata": {},
   "outputs": [
    {
     "data": {
      "text/plain": [
       "\"Chapter 1 - A Tutorial Introduction\\nbeen omitted. \\nThe new syntax of function prototypes makes it much easier for a compiler to detect errors in the number of \\narguments or their types. The old style of declaration and definition still works in ANSI C, at least for a transition period, but we strongly recommend that you use the new form when you have a compiler that supports it. \\nExercise 1.15. Rewrite the temperature conversion program of \\nSection 1.2 to use a function for conversion. \\n1.8 Arguments - Call by Value\\nOne aspect of C functions may be unfamiliar to programmers who are used to some other languages, particulary \\nFortran. In C, all function arguments are passed ``by value.'' This means that the called function is given the values of its arguments in temporary variables rather than the originals. This leads to some different properties than are \\nseen with ``call by reference'' languages like Fortran or with var parameters in Pascal, in which the called routine \\nhas access to the original argument, not a local copy. \\nCall by value is an asset, however, not a liability. It usually leads to more compact programs with fewer extraneous \\nvariables, because parameters can be treated as conveniently initialized local variables in the called routine. For \\nexample, here is a version of power that makes use of this property. \\n   /* power:  raise base to n-th power; n >= 0; version 2 */\\n   int power(int base, int n)   {       int p;\\n       for (p = 1; n > 0; --n)\\n           p = p * base;       return p;   }\\nThe parameter n is used as a temporary variable, and is counted down (a for loop that runs backwards) until it \\nbecomes zero; there is no longer a need for the variable i. Whatever is done to n inside power has no effect on the argument that power was originally called with. \\nWhen necessary, it is possible to arrange for a function to modify a variable in a calling routine. The caller must \\nprovide the address of the variable to be set (technically a pointer to the variable), and the called function must declare the parameter to be a pointer and access the variable indirectly through it. We will cover pointers in \\nChapter 5. \\nThe story is different for arrays. When the name of an array is used as an argument, the value passed to the \\nfunction is the location or address of the beginning of the array - there is no copying of array elements. By subscripting this value, the function can access and alter any argument of the array. This is the topic of the next section. \\n\\x00h\\x00t\\x00t\\x00p\\x00:\\x00/\\x00/\\x00f\\x00r\\x00e\\x00e\\x00b\\x00o\\x00o\\x00k\\x00s\\x00.\\x00b\\x00y\\x00.\\x00r\\x00u\\x00/\\x00v\\x00i\\x00e\\x00w\\x00/\\x00C\\x00P\\x00r\\x00o\\x00g\\x00r\\x00a\\x00m\\x00m\\x00i\\x00n\\x00g\\x00L\\x00a\\x00n\\x00g\\x00u\\x00a\\x00g\\x00e\\x00/\\x00c\\x00h\\x00a\\x00p\\x00t\\x00e\\x00r\\x001\\x00.\\x00h\\x00t\\x00m\\x00l\\x00 \\x00(\\x002\\x003\\x00 \\x00o\\x00f\\x00 \\x003\\x000\\x00)\\x00 \\x00[\\x009\\x00/\\x006\\x00/\\x002\\x000\\x000\\x002\\x00 \\x001\\x002\\x00:\\x002\\x001\\x00:\\x001\\x001\\x00 \\x00]\""
      ]
     },
     "execution_count": 64,
     "metadata": {},
     "output_type": "execute_result"
    }
   ],
   "source": [
    "op23"
   ]
  },
  {
   "cell_type": "code",
   "execution_count": 65,
   "id": "f0da90c7",
   "metadata": {},
   "outputs": [
    {
     "data": {
      "text/plain": [
       "\"Chapter 1 - A Tutorial Introduction\\n1.9 Character Arrays\\nThe most common type of array in C is the array of characters. To illustrate the use of character arrays and \\nfunctions to manipulate them, let's write a program that reads a set of text lines and prints the longest. The outline is simple enough: \\n   while (there's another line)\\n       if (it's longer than the previous longest)           (save it)           (save its length)   print longest line\\nThis outline makes it clear that the program divides naturally into pieces. One piece gets a new line, another saves \\nit, and the rest controls the process. \\nSince things divide so nicely, it would be well to write them that way too. Accordingly, let us first write a separate \\nfunction getline to fetch the next line of input. We will try to make the function useful in other contexts. At the minimum, getline has to return a signal about possible end of file; a more useful design would be to return the \\nlength of the line, or zero if end of file is encountered. Zero is an acceptable end-of-file return because it is never a valid line length. Every text line has at least one character; even a line containing only a newline has length 1. \\nWhen we find a line that is longer than the previous longest line, it must be saved somewhere. This suggests a \\nsecond function, copy, to copy the new line to a safe place. \\nFinally, we need a main program to control getline and copy. Here is the result.    #include <stdio.h>\\n   #define MAXLINE 1000   /* maximum input line length */\\n   int getline(char line[], int maxline);\\n   void copy(char to[], char from[]);\\n   /* print the longest input line */\\n   main()   {       int len;            /* current line length */       int max;            /* maximum length seen so far */       char line[MAXLINE];    /* current input line */       char longest[MAXLINE]; /* longest line saved here */\\n       max = 0;\\n       while ((len = getline(line, MAXLINE)) > 0)           if (len > max) {               max = len;               copy(longest, line);           }\\n\\x00h\\x00t\\x00t\\x00p\\x00:\\x00/\\x00/\\x00f\\x00r\\x00e\\x00e\\x00b\\x00o\\x00o\\x00k\\x00s\\x00.\\x00b\\x00y\\x00.\\x00r\\x00u\\x00/\\x00v\\x00i\\x00e\\x00w\\x00/\\x00C\\x00P\\x00r\\x00o\\x00g\\x00r\\x00a\\x00m\\x00m\\x00i\\x00n\\x00g\\x00L\\x00a\\x00n\\x00g\\x00u\\x00a\\x00g\\x00e\\x00/\\x00c\\x00h\\x00a\\x00p\\x00t\\x00e\\x00r\\x001\\x00.\\x00h\\x00t\\x00m\\x00l\\x00 \\x00(\\x002\\x004\\x00 \\x00o\\x00f\\x00 \\x003\\x000\\x00)\\x00 \\x00[\\x009\\x00/\\x006\\x00/\\x002\\x000\\x000\\x002\\x00 \\x001\\x002\\x00:\\x002\\x001\\x00:\\x001\\x001\\x00 \\x00]\""
      ]
     },
     "execution_count": 65,
     "metadata": {},
     "output_type": "execute_result"
    }
   ],
   "source": [
    "op24"
   ]
  },
  {
   "cell_type": "code",
   "execution_count": 66,
   "id": "75abc214",
   "metadata": {},
   "outputs": [
    {
     "data": {
      "text/plain": [
       "'Chapter 1 - A Tutorial Introduction\\n       if (max > 0)  /* there was a line */\\n           printf(\"%s\", longest);       return 0;   }\\n   /* getline:  read a line into s, return length  */\\n   int getline(char s[],int lim)   {       int c, i;\\n       for (i=0; i < lim-1 && (c=getchar())!=EOF && c!=\\'\\\\n\\'; ++i)\\n           s[i] = c;       if (c == \\'\\\\n\\') {           s[i] = c;           ++i;       }       s[i] = \\'\\\\0\\';       return i;   }\\n   /* copy:  copy \\'from\\' into \\'to\\'; assume to is big enough */\\n   void copy(char to[], char from[])   {       int i;\\n       i = 0;\\n       while ((to[i] = from[i]) != \\'\\\\0\\')           ++i;   }\\nThe functions getline and copy are declared at the beginning of the program, which we assume is contained in \\none file. \\nmain and getline communicate through a pair of arguments and a returned value. In getline, the arguments \\nare declared by the line \\n   int getline(char s[], int lim);\\nwhich specifies that the first argument, s, is an array, and the second, lim, is an integer. The purpose of supplying \\nthe size of an array in a declaration is to set aside storage. The length of an array s is not necessary in getline since its size is set in main. getline uses return to send a value back to the caller, just as the function power did. This line also declares that getline returns an int; since int is the default return type, it could be omitted. \\nSome functions return a useful value; others, like copy, are used only for their effect and return no value. The \\nreturn type of copy is void, which states explicitly that no value is returned. \\ngetline puts the character \\'\\\\0\\' (the null character, whose value is zero) at the end of the array it is creating, to \\n\\x00h\\x00t\\x00t\\x00p\\x00:\\x00/\\x00/\\x00f\\x00r\\x00e\\x00e\\x00b\\x00o\\x00o\\x00k\\x00s\\x00.\\x00b\\x00y\\x00.\\x00r\\x00u\\x00/\\x00v\\x00i\\x00e\\x00w\\x00/\\x00C\\x00P\\x00r\\x00o\\x00g\\x00r\\x00a\\x00m\\x00m\\x00i\\x00n\\x00g\\x00L\\x00a\\x00n\\x00g\\x00u\\x00a\\x00g\\x00e\\x00/\\x00c\\x00h\\x00a\\x00p\\x00t\\x00e\\x00r\\x001\\x00.\\x00h\\x00t\\x00m\\x00l\\x00 \\x00(\\x002\\x005\\x00 \\x00o\\x00f\\x00 \\x003\\x000\\x00)\\x00 \\x00[\\x009\\x00/\\x006\\x00/\\x002\\x000\\x000\\x002\\x00 \\x001\\x002\\x00:\\x002\\x001\\x00:\\x001\\x001\\x00 \\x00]'"
      ]
     },
     "execution_count": 66,
     "metadata": {},
     "output_type": "execute_result"
    }
   ],
   "source": [
    "op25"
   ]
  },
  {
   "cell_type": "code",
   "execution_count": 67,
   "id": "bb735c5c",
   "metadata": {},
   "outputs": [
    {
     "data": {
      "text/plain": [
       "'Chapter 1 - A Tutorial Introduction\\nmark the end of the string of characters. This conversion is also used by the C language: when a string constant \\nlike \\n   \"hello\\\\n\"\\nappears in a C program, it is stored as an array of characters containing the characters in the string and terminated \\nwith a \\'\\\\0\\' to mark the end. \\n \\nThe %s format specification in printf expects the corresponding argument to be a string represented in this form. copy also relies on the fact that its input argument is terminated with a \\'\\\\0\\', and copies this character into \\nthe output. \\nIt is worth mentioning in passing that even a program as small as this one presents some sticky design problems. \\nFor example, what should main do if it encounters a line which is bigger than its limit? getline works safely, \\nin that it stops collecting when the array is full, even if no newline has been seen. By testing the length and the last \\ncharacter returned, main can determine whether the line was too long, and then cope as it wishes. In the interests \\nof brevity, we have ignored this issue. \\nThere is no way for a user of getline to know in advance how long an input line might be, so getline checks \\nfor overflow. On the other hand, the user of copy already knows (or can find out) how big the strings are, so we \\nhave chosen not to add error checking to it. \\nExercise 1-16. Revise the main routine of the longest-line program so it will correctly print the length of arbitrary \\nlong input lines, and as much as possible of the text. \\nExercise 1-17. Write a program to print all input lines that are longer than 80 characters. Exercise 1-18. Write a program to remove trailing blanks and tabs from each line of input, and to delete entirely \\nblank lines. \\nExercise 1-19. Write a function reverse(s) that reverses the character string s. Use it to write a program that \\nreverses its input a line at a time. \\n1.10 External Variables and Scope\\nThe variables in main, such as line, longest, etc., are private or local to main. Because they are declared \\nwithin main, no other function can have direct access to them. The same is true of the variables in other functions; for example, the variable i in getline is unrelated to the i in copy. Each local variable in a function comes into \\nexistence only when the function is called, and disappears when the function is exited. This is why such variables are usually known as automatic variables, following terminology in other languages. We will use the term \\n\\x00h\\x00t\\x00t\\x00p\\x00:\\x00/\\x00/\\x00f\\x00r\\x00e\\x00e\\x00b\\x00o\\x00o\\x00k\\x00s\\x00.\\x00b\\x00y\\x00.\\x00r\\x00u\\x00/\\x00v\\x00i\\x00e\\x00w\\x00/\\x00C\\x00P\\x00r\\x00o\\x00g\\x00r\\x00a\\x00m\\x00m\\x00i\\x00n\\x00g\\x00L\\x00a\\x00n\\x00g\\x00u\\x00a\\x00g\\x00e\\x00/\\x00c\\x00h\\x00a\\x00p\\x00t\\x00e\\x00r\\x001\\x00.\\x00h\\x00t\\x00m\\x00l\\x00 \\x00(\\x002\\x006\\x00 \\x00o\\x00f\\x00 \\x003\\x000\\x00)\\x00 \\x00[\\x009\\x00/\\x006\\x00/\\x002\\x000\\x000\\x002\\x00 \\x001\\x002\\x00:\\x002\\x001\\x00:\\x001\\x001\\x00 \\x00]'"
      ]
     },
     "execution_count": 67,
     "metadata": {},
     "output_type": "execute_result"
    }
   ],
   "source": [
    "op26"
   ]
  },
  {
   "cell_type": "code",
   "execution_count": 68,
   "id": "12062544",
   "metadata": {},
   "outputs": [
    {
     "data": {
      "text/plain": [
       "'Chapter 1 - A Tutorial Introduction\\nautomatic henceforth to refer to these local variables. ( Chapter 4 discusses the static storage class, in which \\nlocal variables do retain their values between calls.) \\nBecause automatic variables come and go with function invocation, they do not retain their values from one call to \\nthe next, and must be explicitly set upon each entry. If they are not set, they will contain garbage. \\nAs an alternative to automatic variables, it is possible to define variables that are external to all functions, that is, \\nvariables that can be accessed by name by any function. (This mechanism is rather like Fortran COMMON or Pascal variables declared in the outermost block.) Because external variables are globally accessible, they can be used instead of argument lists to communicate data between functions. Furthermore, because external variables remain in existence permanently, rather than appearing and disappearing as functions are called and exited, they retain their values even after the functions that set them have returned. \\nAn external variable must be defined, exactly once, outside of any function; this sets aside storage for it. The \\nvariable must also be declared in each function that wants to access it; this states the type of the variable. The \\ndeclaration may be an explicit extern statement or may be implicit from context. To make the discussion concrete, let us rewrite the longest-line program with line, longest, and max as external variables. This \\nrequires changing the calls, declarations, and bodies of all three functions. \\n   #include <stdio.h>\\n   #define MAXLINE 1000    /* maximum input line size */   int max;                /* maximum length seen so far */\\n   char line[MAXLINE];     /* current input line */   char longest[MAXLINE];  /* longest line saved here */\\n   int getline(void);\\n   void copy(void);\\n   /* print longest input line; specialized version */\\n   main()   {       int len;       extern int max;       extern char longest[];\\n       max = 0;\\n       while ((len = getline()) > 0)           if (len > max) {               max = len;               copy();           }       if (max > 0)  /* there was a line */           printf(\"%s\", longest);       return 0;   }\\n\\x00h\\x00t\\x00t\\x00p\\x00:\\x00/\\x00/\\x00f\\x00r\\x00e\\x00e\\x00b\\x00o\\x00o\\x00k\\x00s\\x00.\\x00b\\x00y\\x00.\\x00r\\x00u\\x00/\\x00v\\x00i\\x00e\\x00w\\x00/\\x00C\\x00P\\x00r\\x00o\\x00g\\x00r\\x00a\\x00m\\x00m\\x00i\\x00n\\x00g\\x00L\\x00a\\x00n\\x00g\\x00u\\x00a\\x00g\\x00e\\x00/\\x00c\\x00h\\x00a\\x00p\\x00t\\x00e\\x00r\\x001\\x00.\\x00h\\x00t\\x00m\\x00l\\x00 \\x00(\\x002\\x007\\x00 \\x00o\\x00f\\x00 \\x003\\x000\\x00)\\x00 \\x00[\\x009\\x00/\\x006\\x00/\\x002\\x000\\x000\\x002\\x00 \\x001\\x002\\x00:\\x002\\x001\\x00:\\x001\\x001\\x00 \\x00]'"
      ]
     },
     "execution_count": 68,
     "metadata": {},
     "output_type": "execute_result"
    }
   ],
   "source": [
    "op27"
   ]
  },
  {
   "cell_type": "code",
   "execution_count": 69,
   "id": "e6418fe2",
   "metadata": {},
   "outputs": [
    {
     "data": {
      "text/plain": [
       "\"Chapter 1 - A Tutorial Introduction\\n   /* getline:  specialized version */\\n   int getline(void)   {       int c, i;       extern char line[];\\n       for (i = 0; i < MAXLINE - 1\\n            && (c=getchar)) != EOF && c != '\\\\n'; ++i)                line[i] = c;       if (c == '\\\\n') {           line[i] = c;           ++i;       }       line[i] = '\\\\0';       return i;   }\\n   /* copy: specialized version */\\n   void copy(void)   {       int i;       extern char line[], longest[];\\n       i = 0;\\n       while ((longest[i] = line[i]) != '\\\\0')           ++i;   }\\nThe external variables in main, getline and copy are defined by the first lines of the example above, which \\nstate their type and cause storage to be allocated for them. Syntactically, external definitions are just like definitions of local variables, but since they occur outside of functions, the variables are external. Before a function can use an external variable, the name of the variable must be made known to the function; the declaration is the \\nsame as before except for the added keyword extern. \\nIn certain circumstances, the extern declaration can be omitted. If the definition of the external variable occurs \\nin the source file before its use in a particular function, then there is no need for an extern declaration in the function. The extern declarations in main, getline and copy are thus redundant. In fact, common practice is \\nto place definitions of all external variables at the beginning of the source file, and then omit all extern declarations. \\nIf the program is in several source files, and a variable is defined in file1 and used in file2 and file3, then extern \\ndeclarations are needed in file2 and file3 to connect the occurrences of the variable. The usual practice is to collect \\nextern declarations of variables and functions in a separate file, historically called a header, that is included by #include at the front of each source file. The suffix .h is conventional for header names. The functions of the standard library, for example, are declared in headers like <stdio.h>. This topic is discussed at length in \\nChapter 4, and the library itself in Chapter 7 and Appendix B. \\n\\x00h\\x00t\\x00t\\x00p\\x00:\\x00/\\x00/\\x00f\\x00r\\x00e\\x00e\\x00b\\x00o\\x00o\\x00k\\x00s\\x00.\\x00b\\x00y\\x00.\\x00r\\x00u\\x00/\\x00v\\x00i\\x00e\\x00w\\x00/\\x00C\\x00P\\x00r\\x00o\\x00g\\x00r\\x00a\\x00m\\x00m\\x00i\\x00n\\x00g\\x00L\\x00a\\x00n\\x00g\\x00u\\x00a\\x00g\\x00e\\x00/\\x00c\\x00h\\x00a\\x00p\\x00t\\x00e\\x00r\\x001\\x00.\\x00h\\x00t\\x00m\\x00l\\x00 \\x00(\\x002\\x008\\x00 \\x00o\\x00f\\x00 \\x003\\x000\\x00)\\x00 \\x00[\\x009\\x00/\\x006\\x00/\\x002\\x000\\x000\\x002\\x00 \\x001\\x002\\x00:\\x002\\x001\\x00:\\x001\\x001\\x00 \\x00]\""
      ]
     },
     "execution_count": 69,
     "metadata": {},
     "output_type": "execute_result"
    }
   ],
   "source": [
    "op28"
   ]
  },
  {
   "cell_type": "code",
   "execution_count": 70,
   "id": "22cd565d",
   "metadata": {},
   "outputs": [
    {
     "data": {
      "text/plain": [
       "\"Chapter 1 - A Tutorial Introduction\\nSince the specialized versions of getline and copy have no arguments, logic would suggest that their \\nprototypes at the beginning of the file should be getline() and copy(). But for compatibility with older C \\nprograms the standard takes an empty list as an old-style declaration, and turns off all argument list checking; the \\nword void must be used for an explicitly empty list. We will discuss this further in Chapter 4. \\nYou should note that we are using the words definition and declaration carefully when we refer to external \\nvariables in this section.``Definition'' refers to the place where the variable is created or assigned storage; ``declaration'' refers to places where the nature of the variable is stated but no storage is allocated. \\nBy the way, there is a tendency to make everything in sight an extern variable because it appears to simplify \\ncommunications - argument lists are short and variables are always there when you want them. But external variables are always there even when you don't want them. Relying too heavily on external variables is fraught with peril since it leads to programs whose data connections are not all obvious - variables can be changed in unexpected and even inadvertent ways, and the program is hard to modify. The second version of the longest-line program is inferior to the first, partly for these reasons, and partly because it destroys the generality of two useful functions by writing into them the names of the variables they manipulate. \\nAt this point we have covered what might be called the conventional core of C. With this handful of building \\nblocks, it's possible to write useful programs of considerable size, and it would probably be a good idea if you paused long enough to do so. These exercises suggest programs of somewhat greater complexity than the ones earlier in this chapter. \\nExercise 1-20. Write a program detab that replaces tabs in the input with the proper number of blanks to space to \\nthe next tab stop. Assume a fixed set of tab stops, say every n columns. Should n be a variable or a symbolic parameter? \\nExercise 1-21. Write a program entab that replaces strings of blanks by the minimum number of tabs and blanks \\nto achieve the same spacing. Use the same tab stops as for detab. When either a tab or a single blank would \\nsuffice to reach a tab stop, which should be given preference? \\nExercise 1-22. Write a program to ``fold'' long input lines into two or more shorter lines after the last non-blank \\ncharacter that occurs before the n-th column of input. Make sure your program does something intelligent with very long lines, and if there are no blanks or tabs before the specified column. \\nExercise 1-23. Write a program to remove all comments from a C program. Don't forget to handle quoted strings \\nand character constants properly. C comments don't nest. \\nExercise 1-24. Write a program to check a C program for rudimentary syntax errors like unmatched parentheses, \\nbrackets and braces. Don't forget about quotes, both single and double, escape sequences, and comments. (This program is hard if you do it in full generality.) \\nBack to Introduction --  Index --  Chapter 2 \\n\\x00h\\x00t\\x00t\\x00p\\x00:\\x00/\\x00/\\x00f\\x00r\\x00e\\x00e\\x00b\\x00o\\x00o\\x00k\\x00s\\x00.\\x00b\\x00y\\x00.\\x00r\\x00u\\x00/\\x00v\\x00i\\x00e\\x00w\\x00/\\x00C\\x00P\\x00r\\x00o\\x00g\\x00r\\x00a\\x00m\\x00m\\x00i\\x00n\\x00g\\x00L\\x00a\\x00n\\x00g\\x00u\\x00a\\x00g\\x00e\\x00/\\x00c\\x00h\\x00a\\x00p\\x00t\\x00e\\x00r\\x001\\x00.\\x00h\\x00t\\x00m\\x00l\\x00 \\x00(\\x002\\x009\\x00 \\x00o\\x00f\\x00 \\x003\\x000\\x00)\\x00 \\x00[\\x009\\x00/\\x006\\x00/\\x002\\x000\\x000\\x002\\x00 \\x001\\x002\\x00:\\x002\\x001\\x00:\\x001\\x001\\x00 \\x00]\""
      ]
     },
     "execution_count": 70,
     "metadata": {},
     "output_type": "execute_result"
    }
   ],
   "source": [
    "op29"
   ]
  },
  {
   "cell_type": "code",
   "execution_count": null,
   "id": "5e87a271",
   "metadata": {},
   "outputs": [],
   "source": []
  }
 ],
 "metadata": {
  "kernelspec": {
   "display_name": "Python 3 (ipykernel)",
   "language": "python",
   "name": "python3"
  },
  "language_info": {
   "codemirror_mode": {
    "name": "ipython",
    "version": 3
   },
   "file_extension": ".py",
   "mimetype": "text/x-python",
   "name": "python",
   "nbconvert_exporter": "python",
   "pygments_lexer": "ipython3",
   "version": "3.10.6"
  }
 },
 "nbformat": 4,
 "nbformat_minor": 5
}
