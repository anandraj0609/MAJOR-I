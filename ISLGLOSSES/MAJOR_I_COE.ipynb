{
  "nbformat": 4,
  "nbformat_minor": 0,
  "metadata": {
    "colab": {
      "provenance": []
    },
    "kernelspec": {
      "name": "python3",
      "display_name": "Python 3"
    },
    "language_info": {
      "name": "python"
    }
  },
  "cells": [
    {
      "cell_type": "code",
      "execution_count": 5,
      "metadata": {
        "colab": {
          "base_uri": "https://localhost:8080/"
        },
        "id": "vwd00vjpjY1i",
        "outputId": "60d85ede-c752-4cbb-ec66-b8155d1abd28"
      },
      "outputs": [
        {
          "output_type": "stream",
          "name": "stdout",
          "text": [
            "Requirement already satisfied: nltk in /usr/local/lib/python3.10/dist-packages (3.8.1)\n",
            "Requirement already satisfied: click in /usr/local/lib/python3.10/dist-packages (from nltk) (8.1.6)\n",
            "Requirement already satisfied: joblib in /usr/local/lib/python3.10/dist-packages (from nltk) (1.3.1)\n",
            "Requirement already satisfied: regex>=2021.8.3 in /usr/local/lib/python3.10/dist-packages (from nltk) (2022.10.31)\n",
            "Requirement already satisfied: tqdm in /usr/local/lib/python3.10/dist-packages (from nltk) (4.65.0)\n"
          ]
        }
      ],
      "source": [
        "!pip install nltk"
      ]
    },
    {
      "cell_type": "code",
      "source": [
        "import nltk\n",
        "nltk.download('punkt')"
      ],
      "metadata": {
        "colab": {
          "base_uri": "https://localhost:8080/"
        },
        "id": "eOOFDDDgkF9_",
        "outputId": "e96ceaf1-c8b5-4676-aa3e-78624f3e885e"
      },
      "execution_count": 6,
      "outputs": [
        {
          "output_type": "stream",
          "name": "stderr",
          "text": [
            "[nltk_data] Downloading package punkt to /root/nltk_data...\n",
            "[nltk_data]   Unzipping tokenizers/punkt.zip.\n"
          ]
        },
        {
          "output_type": "execute_result",
          "data": {
            "text/plain": [
              "True"
            ]
          },
          "metadata": {},
          "execution_count": 6
        }
      ]
    },
    {
      "cell_type": "code",
      "source": [
        "from nltk.tokenize import word_tokenize"
      ],
      "metadata": {
        "id": "9mIKmusPjiMw"
      },
      "execution_count": 2,
      "outputs": []
    },
    {
      "cell_type": "code",
      "source": [
        "def find_isl_glosses(sentence):\n",
        "\n",
        "    tokens = word_tokenize(sentence)\n",
        "\n",
        "    # Sample mapping of English words to their ISL glosses (replace this with the actual dictionary)\n",
        "    isl_dictionary = {\n",
        "        \"hello\": \"HELLO-GLOSS\",\n",
        "        \"world\": \"WORLD-GLOSS\",\n",
        "        # Add more mappings as needed...\n",
        "    }\n",
        "\n",
        "    isl_glosses = []\n",
        "\n",
        "    for token in tokens:\n",
        "        if token.lower() in isl_dictionary:\n",
        "            isl_glosses.append(isl_dictionary[token.lower()])\n",
        "        else:\n",
        "            isl_glosses.append(token)\n",
        "\n",
        "    isl_sentence = \" \".join(isl_glosses)\n",
        "\n",
        "    return isl_sentence\n",
        "\n",
        "sample_sentence = \"Hello world! How are you?\"\n",
        "isl_output = find_isl_glosses(sample_sentence)\n",
        "print(isl_output)"
      ],
      "metadata": {
        "colab": {
          "base_uri": "https://localhost:8080/"
        },
        "id": "RehXWK74joCv",
        "outputId": "a3681bbf-512e-4171-ef1a-45f1b72d41e3"
      },
      "execution_count": 7,
      "outputs": [
        {
          "output_type": "stream",
          "name": "stdout",
          "text": [
            "HELLO-GLOSS WORLD-GLOSS ! How are you ?\n"
          ]
        }
      ]
    }
  ]
}